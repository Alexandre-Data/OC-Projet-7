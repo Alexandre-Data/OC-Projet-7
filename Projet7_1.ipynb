{
  "cells": [
    {
      "cell_type": "markdown",
      "metadata": {
        "id": "view-in-github",
        "colab_type": "text"
      },
      "source": [
        "<a href=\"https://colab.research.google.com/github/Alexandre-Data/OC-Projet-7/blob/main/Projet7_1.ipynb\" target=\"_parent\"><img src=\"https://colab.research.google.com/assets/colab-badge.svg\" alt=\"Open In Colab\"/></a>"
      ]
    },
    {
      "cell_type": "code",
      "execution_count": 1,
      "metadata": {
        "id": "_JUBnKHFML_H"
      },
      "outputs": [],
      "source": [
        "import numpy as np\n",
        "import pandas as pd\n",
        "import gc\n",
        "import time\n",
        "from contextlib import contextmanager\n",
        "from lightgbm import LGBMClassifier\n",
        "from sklearn.metrics import roc_auc_score, roc_curve\n",
        "from sklearn.model_selection import KFold, StratifiedKFold\n",
        "import matplotlib.pyplot as plt\n",
        "import seaborn as sns\n",
        "import warnings\n",
        "from sklearn.model_selection import train_test_split\n",
        "from xgboost import XGBClassifier\n",
        "\n",
        "from sklearn.impute import KNNImputer\n",
        "\n",
        "warnings.simplefilter(action='ignore', category=FutureWarning)\n",
        "from sklearn.model_selection import GridSearchCV\n",
        "\n",
        "from sklearn.pipeline import Pipeline\n",
        "from imblearn.pipeline import make_pipeline\n",
        "from imblearn.over_sampling import SMOTE\n",
        "\n",
        "\n",
        "from sklearn.linear_model import LogisticRegression\n"
      ]
    },
    {
      "cell_type": "code",
      "source": [
        "@contextmanager\n",
        "def timer(title):\n",
        "    t0 = time.time()\n",
        "    yield\n",
        "    print(\"{} - done in {:.0f}s\".format(title, time.time() - t0))\n",
        "\n",
        "# One-hot encoding for categorical columns with get_dummies\n",
        "def one_hot_encoder(df, nan_as_category = False, k=5):\n",
        "    original_columns = list(df.columns)\n",
        "    categorical_columns = [col for col in df.columns if df[col].dtype == 'object']\n",
        "    df = pd.get_dummies(df, columns= categorical_columns, dummy_na= nan_as_category)\n",
        "    new_columns = [c for c in df.columns if c not in original_columns]\n",
        "\n",
        "    # Utiliser KNNImputer uniquement sur les nouvelles colonnes\n",
        "    if df[new_columns].isnull().sum().sum() > 0:\n",
        "      imputer = KNNImputer(n_neighbors=k)\n",
        "      df[new_columns] = imputer.fit_transform(df[new_columns])\n",
        "\n",
        "    return df, new_columns"
      ],
      "metadata": {
        "id": "jtWQtu7CDKYn"
      },
      "execution_count": 2,
      "outputs": []
    },
    {
      "cell_type": "code",
      "execution_count": 3,
      "metadata": {
        "id": "RcbZAYGPMmv5"
      },
      "outputs": [],
      "source": [
        "# Preprocess application_train.csv and application_test.csv\n",
        "def application_train_test(num_rows = None, nan_as_category = True):\n",
        "    # Read data and merge\n",
        "    df = pd.read_csv('/content/drive/MyDrive/OPENCLASSROOM/PROJET 7/application_train.csv', nrows= num_rows)\n",
        "    test_df = pd.read_csv('/content/drive/MyDrive/OPENCLASSROOM/PROJET 7/application_test.csv', nrows= num_rows)\n",
        "    print(\"Train samples: {}, test samples: {}\".format(len(df), len(test_df)))\n",
        "    df = df.append(test_df).reset_index()\n",
        "    # Optional: Remove 4 applications with XNA CODE_GENDER (train set)\n",
        "    df = df[df['CODE_GENDER'] != 'XNA']\n",
        "\n",
        "    # Categorical features with Binary encode (0 or 1; two categories)\n",
        "    for bin_feature in ['CODE_GENDER', 'FLAG_OWN_CAR', 'FLAG_OWN_REALTY']:\n",
        "        df[bin_feature], uniques = pd.factorize(df[bin_feature])\n",
        "\n",
        "    # NaN values for DAYS_EMPLOYED: 365.243 -> nan\n",
        "    df['DAYS_EMPLOYED'].replace(365243, np.nan, inplace= True)\n",
        "\n",
        "    if df['TARGET'].isna().any():\n",
        "    # Sélectionner uniquement les colonnes numériques\n",
        "        numeric_cols = df.select_dtypes(include=['number'])\n",
        "\n",
        "    # Exclure la colonne 'TARGET'\n",
        "        numeric_cols = numeric_cols.drop(columns=['TARGET'])\n",
        "\n",
        "    # Remplir les valeurs manquantes dans les colonnes numériques avec la moyenne de chaque colonne\n",
        "        df[numeric_cols.columns] = numeric_cols.apply(lambda col: col.fillna(col.mean()))\n",
        "\n",
        "    # Categorical features with One-Hot encode\n",
        "    df, cat_cols = one_hot_encoder(df, nan_as_category)\n",
        "\n",
        "    # Some simple new features (percentages)\n",
        "    df['DAYS_EMPLOYED_PERC'] = df['DAYS_EMPLOYED'] / df['DAYS_BIRTH']\n",
        "    df['INCOME_CREDIT_PERC'] = df['AMT_INCOME_TOTAL'] / df['AMT_CREDIT']\n",
        "    df['INCOME_PER_PERSON'] = df['AMT_INCOME_TOTAL'] / df['CNT_FAM_MEMBERS']\n",
        "    df['ANNUITY_INCOME_PERC'] = df['AMT_ANNUITY'] / df['AMT_INCOME_TOTAL']\n",
        "    df['PAYMENT_RATE'] = df['AMT_ANNUITY'] / df['AMT_CREDIT']\n",
        "    del test_df\n",
        "    gc.collect()\n",
        "    return df"
      ]
    },
    {
      "cell_type": "code",
      "source": [
        "essai = application_train_test()\n",
        "(essai.isna().sum() > 0).sum()"
      ],
      "metadata": {
        "colab": {
          "base_uri": "https://localhost:8080/"
        },
        "id": "QaCmMhII8GeW",
        "outputId": "e44d1c49-8c50-4850-a058-19b14fa0177a"
      },
      "execution_count": 4,
      "outputs": [
        {
          "output_type": "stream",
          "name": "stdout",
          "text": [
            "Train samples: 307511, test samples: 48744\n"
          ]
        },
        {
          "output_type": "execute_result",
          "data": {
            "text/plain": [
              "1"
            ]
          },
          "metadata": {},
          "execution_count": 4
        }
      ]
    },
    {
      "cell_type": "code",
      "source": [
        "essai.shape"
      ],
      "metadata": {
        "colab": {
          "base_uri": "https://localhost:8080/"
        },
        "id": "vXhm0SRM8TRc",
        "outputId": "dcb5a244-4a70-4e7d-d03a-96215ec273dd"
      },
      "execution_count": 5,
      "outputs": [
        {
          "output_type": "execute_result",
          "data": {
            "text/plain": [
              "(356251, 261)"
            ]
          },
          "metadata": {},
          "execution_count": 5
        }
      ]
    },
    {
      "cell_type": "code",
      "execution_count": 6,
      "metadata": {
        "id": "9Y2UK6JhNAeY"
      },
      "outputs": [],
      "source": [
        "# Preprocess bureau.csv and bureau_balance.csv\n",
        "def bureau_and_balance(num_rows = None, nan_as_category = True):\n",
        "    bureau = pd.read_csv('/content/drive/MyDrive/OPENCLASSROOM/PROJET 7/bureau.csv', nrows = num_rows)\n",
        "    bb = pd.read_csv('/content/drive/MyDrive/OPENCLASSROOM/PROJET 7/bureau_balance.csv', nrows = num_rows)\n",
        "\n",
        "\n",
        "    threshold = 0.5 * len(bb)\n",
        "    bb = bb.dropna(thresh=threshold, axis=1)\n",
        "    threshold1 = 0.5 * len(bureau)\n",
        "    bureau = bureau.dropna(thresh = threshold1, axis = 1)\n",
        "\n",
        "    # Sélectionner uniquement les colonnes numériques\n",
        "    numeric_cols = bureau.select_dtypes(include=['number'])\n",
        "\n",
        "    # Remplir les valeurs manquantes dans les colonnes numériques avec la moyenne de chaque colonne\n",
        "    bureau[numeric_cols.columns] = numeric_cols.apply(lambda col: col.fillna(col.mean()))\n",
        "\n",
        "    # Sélectionner uniquement les colonnes numériques\n",
        "    numeric_cols1 = bb.select_dtypes(include=['number'])\n",
        "\n",
        "    # Remplir les valeurs manquantes dans les colonnes numériques avec la moyenne de chaque colonne\n",
        "    bb[numeric_cols1.columns] = numeric_cols1.apply(lambda col: col.fillna(col.mean()))\n",
        "\n",
        "\n",
        "    bb, bb_cat = one_hot_encoder(bb, nan_as_category)\n",
        "    bureau, bureau_cat = one_hot_encoder(bureau, nan_as_category)\n",
        "\n",
        "    # Bureau balance: Perform aggregations and merge with bureau.csv\n",
        "    bb_aggregations = {'MONTHS_BALANCE': ['min', 'max', 'size']}\n",
        "    for col in bb_cat:\n",
        "        bb_aggregations[col] = ['mean']\n",
        "    bb_agg = bb.groupby('SK_ID_BUREAU').agg(bb_aggregations)\n",
        "    bb_agg.columns = pd.Index([e[0] + \"_\" + e[1].upper() for e in bb_agg.columns.tolist()])\n",
        "    bureau = bureau.join(bb_agg, how='left', on='SK_ID_BUREAU')\n",
        "    bureau.drop(['SK_ID_BUREAU'], axis=1, inplace= True)\n",
        "    del bb, bb_agg\n",
        "    gc.collect()\n",
        "\n",
        "    # Bureau and bureau_balance numeric features\n",
        "    num_aggregations = {\n",
        "        'DAYS_CREDIT': ['min', 'max', 'mean', 'var'],\n",
        "        'DAYS_CREDIT_ENDDATE': ['min', 'max', 'mean'],\n",
        "        'DAYS_CREDIT_UPDATE': ['mean'],\n",
        "        'CREDIT_DAY_OVERDUE': ['max', 'mean'],\n",
        "        'AMT_CREDIT_SUM': ['max', 'mean', 'sum'],\n",
        "        'AMT_CREDIT_SUM_DEBT': ['max', 'mean', 'sum'],\n",
        "        'AMT_CREDIT_SUM_OVERDUE': ['mean'],\n",
        "        'AMT_CREDIT_SUM_LIMIT': ['mean', 'sum'],\n",
        "        'CNT_CREDIT_PROLONG': ['sum'],\n",
        "        'MONTHS_BALANCE_MIN': ['min'],\n",
        "        'MONTHS_BALANCE_MAX': ['max'],\n",
        "        'MONTHS_BALANCE_SIZE': ['mean', 'sum']\n",
        "    }\n",
        "    # Bureau and bureau_balance categorical features\n",
        "    cat_aggregations = {}\n",
        "    for cat in bureau_cat: cat_aggregations[cat] = ['mean']\n",
        "    for cat in bb_cat: cat_aggregations[cat + \"_MEAN\"] = ['mean']\n",
        "\n",
        "    bureau_agg = bureau.groupby('SK_ID_CURR').agg({**num_aggregations, **cat_aggregations})\n",
        "    bureau_agg.columns = pd.Index(['BURO_' + e[0] + \"_\" + e[1].upper() for e in bureau_agg.columns.tolist()])\n",
        "    # Bureau: Active credits - using only numerical aggregations\n",
        "    active = bureau[bureau['CREDIT_ACTIVE_Active'] == 1]\n",
        "    active_agg = active.groupby('SK_ID_CURR').agg(num_aggregations)\n",
        "    active_agg.columns = pd.Index(['ACTIVE_' + e[0] + \"_\" + e[1].upper() for e in active_agg.columns.tolist()])\n",
        "    bureau_agg = bureau_agg.join(active_agg, how='left', on='SK_ID_CURR')\n",
        "    del active, active_agg\n",
        "    gc.collect()\n",
        "    # Bureau: Closed credits - using only numerical aggregations\n",
        "    closed = bureau[bureau['CREDIT_ACTIVE_Closed'] == 1]\n",
        "    closed_agg = closed.groupby('SK_ID_CURR').agg(num_aggregations)\n",
        "    closed_agg.columns = pd.Index(['CLOSED_' + e[0] + \"_\" + e[1].upper() for e in closed_agg.columns.tolist()])\n",
        "    bureau_agg = bureau_agg.join(closed_agg, how='left', on='SK_ID_CURR')\n",
        "\n",
        "\n",
        "    del closed, closed_agg, bureau\n",
        "    gc.collect()\n",
        "    return bureau_agg"
      ]
    },
    {
      "cell_type": "code",
      "source": [
        "essai2 = bureau_and_balance()\n",
        "(essai2.isna().sum() > 0).sum()"
      ],
      "metadata": {
        "colab": {
          "base_uri": "https://localhost:8080/"
        },
        "id": "pXMUXu3C83o2",
        "outputId": "d1622e53-8028-46df-d66f-4ac461b8be65"
      },
      "execution_count": 7,
      "outputs": [
        {
          "output_type": "execute_result",
          "data": {
            "text/plain": [
              "61"
            ]
          },
          "metadata": {},
          "execution_count": 7
        }
      ]
    },
    {
      "cell_type": "code",
      "source": [
        "essai2.shape"
      ],
      "metadata": {
        "colab": {
          "base_uri": "https://localhost:8080/"
        },
        "id": "k4WDpmGs9CF0",
        "outputId": "fa54141d-99bc-41c0-879e-c71beaacbe78"
      },
      "execution_count": 8,
      "outputs": [
        {
          "output_type": "execute_result",
          "data": {
            "text/plain": [
              "(305811, 107)"
            ]
          },
          "metadata": {},
          "execution_count": 8
        }
      ]
    },
    {
      "cell_type": "code",
      "execution_count": 9,
      "metadata": {
        "id": "ZcPKDl6mNL3n"
      },
      "outputs": [],
      "source": [
        "# Preprocess previous_applications.csv\n",
        "def previous_applications(num_rows = None, nan_as_category = True):\n",
        "    prev = pd.read_csv('/content/drive/MyDrive/OPENCLASSROOM/PROJET 7/previous_application.csv', nrows = num_rows)\n",
        "\n",
        "    threshold = 0.5 * len(prev)\n",
        "    prev = prev.dropna(thresh=threshold, axis=1)\n",
        "\n",
        "    # Sélectionner uniquement les colonnes numériques\n",
        "    numeric_cols = prev.select_dtypes(include=['number'])\n",
        "\n",
        "    # Remplir les valeurs manquantes dans les colonnes numériques avec la moyenne de chaque colonne\n",
        "    prev[numeric_cols.columns] = numeric_cols.apply(lambda col: col.fillna(col.mean()))\n",
        "\n",
        "    prev, cat_cols = one_hot_encoder(prev, nan_as_category= False)\n",
        "    # Days 365.243 values -> nan\n",
        "    prev['DAYS_FIRST_DRAWING'].replace(365243, np.nan, inplace= True)\n",
        "    prev['DAYS_FIRST_DUE'].replace(365243, np.nan, inplace= True)\n",
        "    prev['DAYS_LAST_DUE_1ST_VERSION'].replace(365243, np.nan, inplace= True)\n",
        "    prev['DAYS_LAST_DUE'].replace(365243, np.nan, inplace= True)\n",
        "    prev['DAYS_TERMINATION'].replace(365243, np.nan, inplace= True)\n",
        "    # Add feature: value ask / value received percentage\n",
        "    prev['APP_CREDIT_PERC'] = prev['AMT_APPLICATION'] / prev['AMT_CREDIT']\n",
        "    # Previous applications numeric features\n",
        "    num_aggregations = {\n",
        "        'AMT_ANNUITY': ['min', 'max', 'mean'],\n",
        "        'AMT_APPLICATION': ['min', 'max', 'mean'],\n",
        "        'AMT_CREDIT': ['min', 'max', 'mean'],\n",
        "        'APP_CREDIT_PERC': ['min', 'max', 'mean', 'var'],\n",
        "        'AMT_GOODS_PRICE': ['min', 'max', 'mean'],\n",
        "        'HOUR_APPR_PROCESS_START': ['min', 'max', 'mean'],\n",
        "        'DAYS_DECISION': ['min', 'max', 'mean'],\n",
        "        'CNT_PAYMENT': ['mean', 'sum'],\n",
        "    }\n",
        "    # Previous applications categorical features\n",
        "    cat_aggregations = {}\n",
        "    for cat in cat_cols:\n",
        "        cat_aggregations[cat] = ['mean']\n",
        "\n",
        "    prev_agg = prev.groupby('SK_ID_CURR').agg({**num_aggregations, **cat_aggregations})\n",
        "    prev_agg.columns = pd.Index(['PREV_' + e[0] + \"_\" + e[1].upper() for e in prev_agg.columns.tolist()])\n",
        "    # Previous Applications: Approved Applications - only numerical features\n",
        "    approved = prev[prev['NAME_CONTRACT_STATUS_Approved'] == 1]\n",
        "    approved_agg = approved.groupby('SK_ID_CURR').agg(num_aggregations)\n",
        "    approved_agg.columns = pd.Index(['APPROVED_' + e[0] + \"_\" + e[1].upper() for e in approved_agg.columns.tolist()])\n",
        "    prev_agg = prev_agg.join(approved_agg, how='left', on='SK_ID_CURR')\n",
        "    # Previous Applications: Refused Applications - only numerical features\n",
        "    refused = prev[prev['NAME_CONTRACT_STATUS_Refused'] == 1]\n",
        "    refused_agg = refused.groupby('SK_ID_CURR').agg(num_aggregations)\n",
        "    refused_agg.columns = pd.Index(['REFUSED_' + e[0] + \"_\" + e[1].upper() for e in refused_agg.columns.tolist()])\n",
        "    prev_agg = prev_agg.join(refused_agg, how='left', on='SK_ID_CURR')\n",
        "    del refused, refused_agg, approved, approved_agg, prev\n",
        "    gc.collect()\n",
        "    return prev_agg"
      ]
    },
    {
      "cell_type": "code",
      "source": [
        "essai3 = previous_applications()\n",
        "(essai3.isna().sum() > 0).sum()"
      ],
      "metadata": {
        "colab": {
          "base_uri": "https://localhost:8080/"
        },
        "id": "0rixqD6y_-Ib",
        "outputId": "9ef8fc44-70fd-47e4-c4c2-0b038cc1a69d"
      },
      "execution_count": 10,
      "outputs": [
        {
          "output_type": "execute_result",
          "data": {
            "text/plain": [
              "52"
            ]
          },
          "metadata": {},
          "execution_count": 10
        }
      ]
    },
    {
      "cell_type": "code",
      "execution_count": 11,
      "metadata": {
        "id": "TLX6w-ToNYP4"
      },
      "outputs": [],
      "source": [
        "# Preprocess POS_CASH_balance.csv\n",
        "def pos_cash(num_rows = None, nan_as_category = True):\n",
        "    pos = pd.read_csv('/content/drive/MyDrive/OPENCLASSROOM/PROJET 7/POS_CASH_balance.csv', nrows = num_rows)\n",
        "\n",
        "    threshold = 0.5 * len(pos)\n",
        "    pos = pos.dropna(thresh=threshold, axis=1)\n",
        "\n",
        "    # Sélectionner uniquement les colonnes numériques\n",
        "    numeric_cols = pos.select_dtypes(include=['number'])\n",
        "\n",
        "    # Remplir les valeurs manquantes dans les colonnes numériques avec la moyenne de chaque colonne\n",
        "    pos[numeric_cols.columns] = numeric_cols.apply(lambda col: col.fillna(col.mean()))\n",
        "\n",
        "\n",
        "    pos, cat_cols = one_hot_encoder(pos, nan_as_category= False)\n",
        "    # Features\n",
        "    aggregations = {\n",
        "        'MONTHS_BALANCE': ['max', 'mean', 'size'],\n",
        "        'SK_DPD': ['max', 'mean'],\n",
        "        'SK_DPD_DEF': ['max', 'mean']\n",
        "    }\n",
        "    for cat in cat_cols:\n",
        "        aggregations[cat] = ['mean']\n",
        "\n",
        "    pos_agg = pos.groupby('SK_ID_CURR').agg(aggregations)\n",
        "    pos_agg.columns = pd.Index(['POS_' + e[0] + \"_\" + e[1].upper() for e in pos_agg.columns.tolist()])\n",
        "    # Count pos cash accounts\n",
        "    pos_agg['POS_COUNT'] = pos.groupby('SK_ID_CURR').size()\n",
        "    del pos\n",
        "    gc.collect()\n",
        "    return pos_agg"
      ]
    },
    {
      "cell_type": "code",
      "source": [
        "essai4 = pos_cash()\n",
        "(essai4.isna().sum() > 0).sum()"
      ],
      "metadata": {
        "colab": {
          "base_uri": "https://localhost:8080/"
        },
        "id": "VkiQZkmWADzK",
        "outputId": "e3235ca8-c1e8-4943-8558-b61b5fb12e78"
      },
      "execution_count": 12,
      "outputs": [
        {
          "output_type": "execute_result",
          "data": {
            "text/plain": [
              "0"
            ]
          },
          "metadata": {},
          "execution_count": 12
        }
      ]
    },
    {
      "cell_type": "code",
      "execution_count": 13,
      "metadata": {
        "id": "oQgXeCWNNgYR"
      },
      "outputs": [],
      "source": [
        "# Preprocess installments_payments.csv\n",
        "def installments_payments(num_rows = None, nan_as_category = True):\n",
        "    ins = pd.read_csv('/content/drive/MyDrive/OPENCLASSROOM/PROJET 7/installments_payments.csv', nrows = num_rows)\n",
        "\n",
        "    threshold = 0.5 * len(ins)\n",
        "    ins = ins.dropna(thresh=threshold, axis=1)\n",
        "\n",
        "    # Sélectionner uniquement les colonnes numériques\n",
        "    numeric_cols = ins.select_dtypes(include=['number'])\n",
        "\n",
        "    # Remplir les valeurs manquantes dans les colonnes numériques avec la moyenne de chaque colonne\n",
        "    ins[numeric_cols.columns] = numeric_cols.apply(lambda col: col.fillna(col.mean()))\n",
        "\n",
        "    ins, cat_cols = one_hot_encoder(ins, nan_as_category= False)\n",
        "    # Percentage and difference paid in each installment (amount paid and installment value)\n",
        "    ins['PAYMENT_PERC'] = ins['AMT_PAYMENT'] / ins['AMT_INSTALMENT']\n",
        "    ins['PAYMENT_DIFF'] = ins['AMT_INSTALMENT'] - ins['AMT_PAYMENT']\n",
        "    # Days past due and days before due (no negative values)\n",
        "    ins['DPD'] = ins['DAYS_ENTRY_PAYMENT'] - ins['DAYS_INSTALMENT']\n",
        "    ins['DBD'] = ins['DAYS_INSTALMENT'] - ins['DAYS_ENTRY_PAYMENT']\n",
        "    ins['DPD'] = ins['DPD'].apply(lambda x: x if x > 0 else 0)\n",
        "    ins['DBD'] = ins['DBD'].apply(lambda x: x if x > 0 else 0)\n",
        "    # Features: Perform aggregations\n",
        "    aggregations = {\n",
        "        'NUM_INSTALMENT_VERSION': ['nunique'],\n",
        "        'DPD': ['max', 'mean', 'sum'],\n",
        "        'DBD': ['max', 'mean', 'sum'],\n",
        "        'PAYMENT_PERC': ['max', 'mean', 'sum', 'var'],\n",
        "        'PAYMENT_DIFF': ['max', 'mean', 'sum', 'var'],\n",
        "        'AMT_INSTALMENT': ['max', 'mean', 'sum'],\n",
        "        'AMT_PAYMENT': ['min', 'max', 'mean', 'sum'],\n",
        "        'DAYS_ENTRY_PAYMENT': ['max', 'mean', 'sum']\n",
        "    }\n",
        "    for cat in cat_cols:\n",
        "        aggregations[cat] = ['mean']\n",
        "    ins_agg = ins.groupby('SK_ID_CURR').agg(aggregations)\n",
        "    ins_agg.columns = pd.Index(['INSTAL_' + e[0] + \"_\" + e[1].upper() for e in ins_agg.columns.tolist()])\n",
        "    # Count installments accounts\n",
        "    ins_agg['INSTAL_COUNT'] = ins.groupby('SK_ID_CURR').size()\n",
        "    del ins\n",
        "    gc.collect()\n",
        "    return ins_agg"
      ]
    },
    {
      "cell_type": "code",
      "source": [
        "essai5 = installments_payments()\n",
        "(essai5.isna().sum() > 0).sum()"
      ],
      "metadata": {
        "colab": {
          "base_uri": "https://localhost:8080/"
        },
        "id": "Pe_A9tASATAY",
        "outputId": "5fbc4112-119b-4f9c-b545-463e8a13b30a"
      },
      "execution_count": 14,
      "outputs": [
        {
          "output_type": "execute_result",
          "data": {
            "text/plain": [
              "4"
            ]
          },
          "metadata": {},
          "execution_count": 14
        }
      ]
    },
    {
      "cell_type": "code",
      "execution_count": 15,
      "metadata": {
        "id": "e5UIVxFZNksX"
      },
      "outputs": [],
      "source": [
        "# Preprocess credit_card_balance.csv\n",
        "def credit_card_balance(num_rows = None, nan_as_category = True):\n",
        "    cc = pd.read_csv('/content/drive/MyDrive/OPENCLASSROOM/PROJET 7/credit_card_balance.csv', nrows = num_rows)\n",
        "\n",
        "    threshold = 0.5 * len(cc)\n",
        "    cc = cc.dropna(thresh=threshold, axis=1)\n",
        "\n",
        "    # Sélectionner uniquement les colonnes numériques\n",
        "    numeric_cols = cc.select_dtypes(include=['number'])\n",
        "\n",
        "    # Remplir les valeurs manquantes dans les colonnes numériques avec la moyenne de chaque colonne\n",
        "    cc[numeric_cols.columns] = numeric_cols.apply(lambda col: col.fillna(col.mean()))\n",
        "\n",
        "    cc, cat_cols = one_hot_encoder(cc, nan_as_category= False)\n",
        "    # General aggregations\n",
        "    cc.drop(['SK_ID_PREV'], axis= 1, inplace = True)\n",
        "    cc_agg = cc.groupby('SK_ID_CURR').agg(['min', 'max', 'mean', 'sum', 'var'])\n",
        "    cc_agg.columns = pd.Index(['CC_' + e[0] + \"_\" + e[1].upper() for e in cc_agg.columns.tolist()])\n",
        "    # Count credit card lines\n",
        "    cc_agg['CC_COUNT'] = cc.groupby('SK_ID_CURR').size()\n",
        "    del cc\n",
        "    gc.collect()\n",
        "    return cc_agg"
      ]
    },
    {
      "cell_type": "code",
      "source": [
        "essai6 = credit_card_balance()\n",
        "(essai6.isna().sum() > 0).sum()"
      ],
      "metadata": {
        "colab": {
          "base_uri": "https://localhost:8080/"
        },
        "id": "IyMuFVWFAipD",
        "outputId": "9034cfbc-b55b-486b-9437-f0386e53b498"
      },
      "execution_count": 16,
      "outputs": [
        {
          "output_type": "execute_result",
          "data": {
            "text/plain": [
              "27"
            ]
          },
          "metadata": {},
          "execution_count": 16
        }
      ]
    },
    {
      "cell_type": "code",
      "execution_count": 17,
      "metadata": {
        "id": "Dxg1IgvCN6g5"
      },
      "outputs": [],
      "source": [
        "def main(debug = False):\n",
        "    num_rows = 10000 if debug else None\n",
        "    df = application_train_test(num_rows)\n",
        "    with timer(\"Process bureau and bureau_balance\"):\n",
        "        bureau = bureau_and_balance(num_rows)\n",
        "        print(\"Bureau df shape:\", bureau.shape)\n",
        "        df = df.join(bureau, how='left', on='SK_ID_CURR')\n",
        "        del bureau\n",
        "        gc.collect()\n",
        "    with timer(\"Process previous_applications\"):\n",
        "        prev = previous_applications(num_rows)\n",
        "        print(\"Previous applications df shape:\", prev.shape)\n",
        "        df = df.join(prev, how='left', on='SK_ID_CURR')\n",
        "        del prev\n",
        "        gc.collect()\n",
        "    with timer(\"Process POS-CASH balance\"):\n",
        "        pos = pos_cash(num_rows)\n",
        "        print(\"Pos-cash balance df shape:\", pos.shape)\n",
        "        df = df.join(pos, how='left', on='SK_ID_CURR')\n",
        "        del pos\n",
        "        gc.collect()\n",
        "    with timer(\"Process installments payments\"):\n",
        "        ins = installments_payments(num_rows)\n",
        "        print(\"Installments payments df shape:\", ins.shape)\n",
        "        df = df.join(ins, how='left', on='SK_ID_CURR')\n",
        "        del ins\n",
        "        gc.collect()\n",
        "    with timer(\"Process credit card balance\"):\n",
        "        cc = credit_card_balance(num_rows)\n",
        "        print(\"Credit card balance df shape:\", cc.shape)\n",
        "        df = df.join(cc, how='left', on='SK_ID_CURR')\n",
        "        del cc\n",
        "        gc.collect()\n",
        "    return df"
      ]
    },
    {
      "cell_type": "code",
      "execution_count": 18,
      "metadata": {
        "id": "l1KN1MWXtLvG",
        "colab": {
          "base_uri": "https://localhost:8080/"
        },
        "outputId": "641b46a7-1b7b-46b8-cb27-cc1cb6d5f408"
      },
      "outputs": [
        {
          "output_type": "stream",
          "name": "stdout",
          "text": [
            "Train samples: 307511, test samples: 48744\n",
            "Bureau df shape: (305811, 107)\n",
            "Process bureau and bureau_balance - done in 26s\n",
            "Previous applications df shape: (338857, 215)\n",
            "Process previous_applications - done in 25s\n",
            "Pos-cash balance df shape: (337252, 17)\n",
            "Process POS-CASH balance - done in 14s\n",
            "Installments payments df shape: (339587, 26)\n",
            "Process installments payments - done in 33s\n",
            "Credit card balance df shape: (103558, 136)\n",
            "Process credit card balance - done in 20s\n",
            "Full model run - done in 127s\n"
          ]
        }
      ],
      "source": [
        "if __name__ == \"__main__\":\n",
        "    with timer(\"Full model run\"):\n",
        "        # Capture the returned dataframe\n",
        "        df = main()\n",
        "    submission_file_name = \"/content/drive/MyDrive/OPENCLASSROOM/PROJET 7/fichier_complet.csv\"\n",
        "    df.to_csv(submission_file_name, index=False)"
      ]
    },
    {
      "cell_type": "code",
      "source": [
        "df1 = pd.read_csv(\"/content/drive/MyDrive/OPENCLASSROOM/PROJET 7/fichier_complet.csv\")"
      ],
      "metadata": {
        "id": "a2gnGxwvHftJ"
      },
      "execution_count": 19,
      "outputs": []
    },
    {
      "cell_type": "code",
      "source": [
        "df1.shape"
      ],
      "metadata": {
        "colab": {
          "base_uri": "https://localhost:8080/"
        },
        "id": "3yQ_0ApyKL74",
        "outputId": "819dd8cd-9386-427a-fa0e-09801b6ada8f"
      },
      "execution_count": 20,
      "outputs": [
        {
          "output_type": "execute_result",
          "data": {
            "text/plain": [
              "(356251, 762)"
            ]
          },
          "metadata": {},
          "execution_count": 20
        }
      ]
    },
    {
      "cell_type": "code",
      "source": [
        "# Calculer le pourcentage de NA pour chaque colonne\n",
        "na_rate = df1.isna().mean().round(4) * 100\n",
        "\n",
        "# Supprimer les colonnes avec plus de 50 % de NA\n",
        "df1 = df.dropna(thresh=len(df)*0.5, axis=1)"
      ],
      "metadata": {
        "id": "MdQdiKIy0TwE"
      },
      "execution_count": 21,
      "outputs": []
    },
    {
      "cell_type": "code",
      "source": [
        "df1.shape"
      ],
      "metadata": {
        "colab": {
          "base_uri": "https://localhost:8080/"
        },
        "id": "bWZiRh_TMmHv",
        "outputId": "aaf3a341-c239-4f0f-d9dd-8a209109ab9a"
      },
      "execution_count": 22,
      "outputs": [
        {
          "output_type": "execute_result",
          "data": {
            "text/plain": [
              "(356251, 583)"
            ]
          },
          "metadata": {},
          "execution_count": 22
        }
      ]
    },
    {
      "cell_type": "code",
      "source": [
        "# Vérifier si le DataFrame contient des valeurs infinies\n",
        "infinite_values = np.isinf(df1)\n",
        "\n",
        "# Vérifier si le DataFrame contient au moins une valeur infinie\n",
        "contains_infinite = infinite_values.any().any()\n",
        "\n",
        "print(\"Contient des valeurs infinies:\", contains_infinite)\n"
      ],
      "metadata": {
        "colab": {
          "base_uri": "https://localhost:8080/"
        },
        "id": "Fft0yBXdhTg5",
        "outputId": "aa7807c4-f79f-4318-d436-39f364c5309c"
      },
      "execution_count": 23,
      "outputs": [
        {
          "output_type": "stream",
          "name": "stdout",
          "text": [
            "Contient des valeurs infinies: True\n"
          ]
        }
      ]
    },
    {
      "cell_type": "code",
      "source": [
        "# Trouver les colonnes qui contiennent des valeurs infinies\n",
        "infinite_columns = infinite_values.any()\n",
        "\n",
        "# Afficher les colonnes avec des valeurs infinies\n",
        "print(\"Colonnes avec des valeurs infinies:\", infinite_columns[infinite_columns].index.tolist())"
      ],
      "metadata": {
        "colab": {
          "base_uri": "https://localhost:8080/"
        },
        "id": "YE5YLkpAjtq3",
        "outputId": "ec1e6d61-ee00-4453-bff3-1f4fbf583ca5"
      },
      "execution_count": 24,
      "outputs": [
        {
          "output_type": "stream",
          "name": "stdout",
          "text": [
            "Colonnes avec des valeurs infinies: ['PREV_APP_CREDIT_PERC_MAX', 'INSTAL_PAYMENT_PERC_MAX', 'INSTAL_PAYMENT_PERC_MEAN', 'INSTAL_PAYMENT_PERC_SUM']\n"
          ]
        }
      ]
    },
    {
      "cell_type": "code",
      "source": [
        "# Trouver les lignes qui contiennent des valeurs infinies\n",
        "infinite_rows = infinite_values.any(axis=1)\n",
        "\n",
        "# Compter le nombre de lignes avec des valeurs infinies\n",
        "num_infinite_rows = infinite_rows.sum()\n",
        "\n",
        "print(\"Nombre de lignes avec des valeurs infinies:\", num_infinite_rows)\n"
      ],
      "metadata": {
        "colab": {
          "base_uri": "https://localhost:8080/"
        },
        "id": "LqwgpxoOkDp-",
        "outputId": "9a60f535-83b2-4e1b-9ac3-f6cb94322557"
      },
      "execution_count": 25,
      "outputs": [
        {
          "output_type": "stream",
          "name": "stdout",
          "text": [
            "Nombre de lignes avec des valeurs infinies: 57\n"
          ]
        }
      ]
    },
    {
      "cell_type": "code",
      "source": [
        "# Supprimer les lignes avec des valeurs infinies\n",
        "df_cleaned = df1[~infinite_rows]"
      ],
      "metadata": {
        "id": "DHd4TLpEkFcO"
      },
      "execution_count": 26,
      "outputs": []
    },
    {
      "cell_type": "code",
      "source": [
        "# Vérifier si le DataFrame contient des valeurs infinies\n",
        "infinite_values = np.isinf(df_cleaned)\n",
        "\n",
        "# Vérifier si le DataFrame contient au moins une valeur infinie\n",
        "contains_infinite = infinite_values.any().any()\n",
        "\n",
        "print(\"Contient des valeurs infinies:\", contains_infinite)"
      ],
      "metadata": {
        "colab": {
          "base_uri": "https://localhost:8080/"
        },
        "id": "P_TuuWSXkK2t",
        "outputId": "f6783d2f-efd9-4743-eaf7-40c5b2a95d43"
      },
      "execution_count": 27,
      "outputs": [
        {
          "output_type": "stream",
          "name": "stdout",
          "text": [
            "Contient des valeurs infinies: False\n"
          ]
        }
      ]
    },
    {
      "cell_type": "code",
      "source": [
        "df_final = df_cleaned.copy()"
      ],
      "metadata": {
        "id": "nU7LoyrBjkb3"
      },
      "execution_count": 28,
      "outputs": []
    },
    {
      "cell_type": "code",
      "source": [
        "df_final.isna().sum()"
      ],
      "metadata": {
        "colab": {
          "base_uri": "https://localhost:8080/"
        },
        "id": "6zBQQE7Fjac1",
        "outputId": "086b25b6-c61a-42f5-bee6-c27b9f5a8557"
      },
      "execution_count": 29,
      "outputs": [
        {
          "output_type": "execute_result",
          "data": {
            "text/plain": [
              "index                                 0\n",
              "SK_ID_CURR                            0\n",
              "TARGET                            48727\n",
              "CODE_GENDER                           0\n",
              "FLAG_OWN_CAR                          0\n",
              "                                  ...  \n",
              "INSTAL_AMT_PAYMENT_SUM            16668\n",
              "INSTAL_DAYS_ENTRY_PAYMENT_MAX     16668\n",
              "INSTAL_DAYS_ENTRY_PAYMENT_MEAN    16668\n",
              "INSTAL_DAYS_ENTRY_PAYMENT_SUM     16668\n",
              "INSTAL_COUNT                      16668\n",
              "Length: 583, dtype: int64"
            ]
          },
          "metadata": {},
          "execution_count": 29
        }
      ]
    },
    {
      "cell_type": "markdown",
      "source": [
        "<h1 align=center>PARAMETRAGE XGBOOST</h1>"
      ],
      "metadata": {
        "id": "XLb5sxsHC_bW"
      }
    },
    {
      "cell_type": "code",
      "source": [
        "# Garder seulement les lignes où la cible n'est pas NaN\n",
        "df_cleaned1 = df_cleaned[df_cleaned['TARGET'].notna()]\n",
        "\n",
        "# Séparation des données en entraînement et test\n",
        "X = df_cleaned1.drop(columns=['TARGET'])\n",
        "y = df_cleaned1['TARGET']\n",
        "X_train_xgb_imp, X_test_xgb_imp, y_train_xgb_imp, y_test_xgb_imp = train_test_split(X, y, test_size=0.2, random_state=42)\n",
        "\n",
        "# Entraîner le modèle\n",
        "model_xgb_imp = XGBClassifier(n_jobs = -1)\n",
        "model_xgb_imp.fit(X_train_xgb_imp, y_train_xgb_imp)\n",
        "\n",
        "# Obtenir les importances des caractéristiques et les noms de colonnes\n",
        "importances = model_xgb_imp.feature_importances_\n",
        "feature_names = X_train_xgb_imp.columns\n",
        "\n",
        "# Créer un DataFrame pour les importances\n",
        "importance_df = pd.DataFrame({\n",
        "    'feature': feature_names,\n",
        "    'importance': importances\n",
        "})\n",
        "\n",
        "# Trier par importance\n",
        "importance_df = importance_df.sort_values(by='importance', ascending=False)\n"
      ],
      "metadata": {
        "id": "XRTIm6umkZom"
      },
      "execution_count": 30,
      "outputs": []
    },
    {
      "cell_type": "code",
      "source": [
        "# Sélectionner les 100 caractéristiques les plus importantes\n",
        "top_100_features = importance_df.head(100)\n",
        "\n",
        "# Tracer le graphique\n",
        "plt.figure(figsize=[20,6])\n",
        "plt.bar(top_100_features['feature'], top_100_features['importance'])\n",
        "plt.xlabel('Feature Index')\n",
        "plt.ylabel('Importance')\n",
        "plt.title('Top 100 Feature Importances')\n",
        "plt.xticks(rotation=90, fontsize=8)\n",
        "plt.show()"
      ],
      "metadata": {
        "colab": {
          "base_uri": "https://localhost:8080/",
          "height": 488
        },
        "id": "DrEdZJHmLAi2",
        "outputId": "b5c2eb18-317b-4126-a8d3-40c5d298f618"
      },
      "execution_count": 31,
      "outputs": [
        {
          "output_type": "display_data",
          "data": {
            "text/plain": [
              "<Figure size 2000x600 with 1 Axes>"
            ],
            "image/png": "[encoded data removed]"
          },
          "metadata": {}
        }
      ]
    },
    {
      "cell_type": "code",
      "source": [
        "importance_df[0:101]"
      ],
      "metadata": {
        "colab": {
          "base_uri": "https://localhost:8080/",
          "height": 423
        },
        "id": "S12MH0DeITOQ",
        "outputId": "9bf3927a-8452-42a8-e6b0-526eab491abf"
      },
      "execution_count": 32,
      "outputs": [
        {
          "output_type": "execute_result",
          "data": {
            "text/plain": [
              "                                       feature  importance\n",
              "34                                EXT_SOURCE_3    0.016145\n",
              "33                                EXT_SOURCE_2    0.014186\n",
              "130       NAME_EDUCATION_TYPE_Higher education    0.011201\n",
              "84                             FLAG_DOCUMENT_3    0.010707\n",
              "3                                 FLAG_OWN_CAR    0.008395\n",
              "..                                         ...         ...\n",
              "538                   APPROVED_CNT_PAYMENT_SUM    0.002681\n",
              "440  PREV_NAME_GOODS_CATEGORY_Audio/Video_MEAN    0.002680\n",
              "241            HOUSETYPE_MODE_specific housing    0.002668\n",
              "425           PREV_CODE_REJECT_REASON_XAP_MEAN    0.002661\n",
              "357                   PREV_APP_CREDIT_PERC_MIN    0.002655\n",
              "\n",
              "[101 rows x 2 columns]"
            ],
            "text/html": [
              "\n",
              "\n",
              "  <div id=\"df-4d457ad9-8e30-477c-9438-17cdc839f5ce\">\n",
              "    <div class=\"colab-df-container\">\n",
              "      <div>\n",
              "<style scoped>\n",
              "    .dataframe tbody tr th:only-of-type {\n",
              "        vertical-align: middle;\n",
              "    }\n",
              "\n",
              "    .dataframe tbody tr th {\n",
              "        vertical-align: top;\n",
              "    }\n",
              "\n",
              "    .dataframe thead th {\n",
              "        text-align: right;\n",
              "    }\n",
              "</style>\n",
              "<table border=\"1\" class=\"dataframe\">\n",
              "  <thead>\n",
              "    <tr style=\"text-align: right;\">\n",
              "      <th></th>\n",
              "      <th>feature</th>\n",
              "      <th>importance</th>\n",
              "    </tr>\n",
              "  </thead>\n",
              "  <tbody>\n",
              "    <tr>\n",
              "      <th>34</th>\n",
              "      <td>EXT_SOURCE_3</td>\n",
              "      <td>0.016145</td>\n",
              "    </tr>\n",
              "    <tr>\n",
              "      <th>33</th>\n",
              "      <td>EXT_SOURCE_2</td>\n",
              "      <td>0.014186</td>\n",
              "    </tr>\n",
              "    <tr>\n",
              "      <th>130</th>\n",
              "      <td>NAME_EDUCATION_TYPE_Higher education</td>\n",
              "      <td>0.011201</td>\n",
              "    </tr>\n",
              "    <tr>\n",
              "      <th>84</th>\n",
              "      <td>FLAG_DOCUMENT_3</td>\n",
              "      <td>0.010707</td>\n",
              "    </tr>\n",
              "    <tr>\n",
              "      <th>3</th>\n",
              "      <td>FLAG_OWN_CAR</td>\n",
              "      <td>0.008395</td>\n",
              "    </tr>\n",
              "    <tr>\n",
              "      <th>...</th>\n",
              "      <td>...</td>\n",
              "      <td>...</td>\n",
              "    </tr>\n",
              "    <tr>\n",
              "      <th>538</th>\n",
              "      <td>APPROVED_CNT_PAYMENT_SUM</td>\n",
              "      <td>0.002681</td>\n",
              "    </tr>\n",
              "    <tr>\n",
              "      <th>440</th>\n",
              "      <td>PREV_NAME_GOODS_CATEGORY_Audio/Video_MEAN</td>\n",
              "      <td>0.002680</td>\n",
              "    </tr>\n",
              "    <tr>\n",
              "      <th>241</th>\n",
              "      <td>HOUSETYPE_MODE_specific housing</td>\n",
              "      <td>0.002668</td>\n",
              "    </tr>\n",
              "    <tr>\n",
              "      <th>425</th>\n",
              "      <td>PREV_CODE_REJECT_REASON_XAP_MEAN</td>\n",
              "      <td>0.002661</td>\n",
              "    </tr>\n",
              "    <tr>\n",
              "      <th>357</th>\n",
              "      <td>PREV_APP_CREDIT_PERC_MIN</td>\n",
              "      <td>0.002655</td>\n",
              "    </tr>\n",
              "  </tbody>\n",
              "</table>\n",
              "<p>101 rows × 2 columns</p>\n",
              "</div>\n",
              "      <button class=\"colab-df-convert\" onclick=\"convertToInteractive('df-4d457ad9-8e30-477c-9438-17cdc839f5ce')\"\n",
              "              title=\"Convert this dataframe to an interactive table.\"\n",
              "              style=\"display:none;\">\n",
              "\n",
              "  <svg xmlns=\"http://www.w3.org/2000/svg\" height=\"24px\"viewBox=\"0 0 24 24\"\n",
              "       width=\"24px\">\n",
              "    <path d=\"M0 0h24v24H0V0z\" fill=\"none\"/>\n",
              "    <path d=\"M18.56 5.44l.94 2.06.94-2.06 2.06-.94-2.06-.94-.94-2.06-.94 2.06-2.06.94zm-11 1L8.5 8.5l.94-2.06 2.06-.94-2.06-.94L8.5 2.5l-.94 2.06-2.06.94zm10 10l.94 2.06.94-2.06 2.06-.94-2.06-.94-.94-2.06-.94 2.06-2.06.94z\"/><path d=\"M17.41 7.96l-1.37-1.37c-.4-.4-.92-.59-1.43-.59-.52 0-1.04.2-1.43.59L10.3 9.45l-7.72 7.72c-.78.78-.78 2.05 0 2.83L4 21.41c.39.39.9.59 1.41.59.51 0 1.02-.2 1.41-.59l7.78-7.78 2.81-2.81c.8-.78.8-2.07 0-2.86zM5.41 20L4 18.59l7.72-7.72 1.47 1.35L5.41 20z\"/>\n",
              "  </svg>\n",
              "      </button>\n",
              "\n",
              "\n",
              "\n",
              "    <div id=\"df-09cae1c8-f967-42f3-9807-ff10c1ef8766\">\n",
              "      <button class=\"colab-df-quickchart\" onclick=\"quickchart('df-09cae1c8-f967-42f3-9807-ff10c1ef8766')\"\n",
              "              title=\"Suggest charts.\"\n",
              "              style=\"display:none;\">\n",
              "\n",
              "<svg xmlns=\"http://www.w3.org/2000/svg\" height=\"24px\"viewBox=\"0 0 24 24\"\n",
              "     width=\"24px\">\n",
              "    <g>\n",
              "        <path d=\"M19 3H5c-1.1 0-2 .9-2 2v14c0 1.1.9 2 2 2h14c1.1 0 2-.9 2-2V5c0-1.1-.9-2-2-2zM9 17H7v-7h2v7zm4 0h-2V7h2v10zm4 0h-2v-4h2v4z\"/>\n",
              "    </g>\n",
              "</svg>\n",
              "      </button>\n",
              "    </div>\n",
              "\n",
              "<style>\n",
              "  .colab-df-quickchart {\n",
              "    background-color: #E8F0FE;\n",
              "    border: none;\n",
              "    border-radius: 50%;\n",
              "    cursor: pointer;\n",
              "    display: none;\n",
              "    fill: #1967D2;\n",
              "    height: 32px;\n",
              "    padding: 0 0 0 0;\n",
              "    width: 32px;\n",
              "  }\n",
              "\n",
              "  .colab-df-quickchart:hover {\n",
              "    background-color: #E2EBFA;\n",
              "    box-shadow: 0px 1px 2px rgba(60, 64, 67, 0.3), 0px 1px 3px 1px rgba(60, 64, 67, 0.15);\n",
              "    fill: #174EA6;\n",
              "  }\n",
              "\n",
              "  [theme=dark] .colab-df-quickchart {\n",
              "    background-color: #3B4455;\n",
              "    fill: #D2E3FC;\n",
              "  }\n",
              "\n",
              "  [theme=dark] .colab-df-quickchart:hover {\n",
              "    background-color: #434B5C;\n",
              "    box-shadow: 0px 1px 3px 1px rgba(0, 0, 0, 0.15);\n",
              "    filter: drop-shadow(0px 1px 2px rgba(0, 0, 0, 0.3));\n",
              "    fill: #FFFFFF;\n",
              "  }\n",
              "</style>\n",
              "\n",
              "    <script>\n",
              "      async function quickchart(key) {\n",
              "        const containerElement = document.querySelector('#' + key);\n",
              "        const charts = await google.colab.kernel.invokeFunction(\n",
              "            'suggestCharts', [key], {});\n",
              "      }\n",
              "    </script>\n",
              "\n",
              "      <script>\n",
              "\n",
              "function displayQuickchartButton(domScope) {\n",
              "  let quickchartButtonEl =\n",
              "    domScope.querySelector('#df-09cae1c8-f967-42f3-9807-ff10c1ef8766 button.colab-df-quickchart');\n",
              "  quickchartButtonEl.style.display =\n",
              "    google.colab.kernel.accessAllowed ? 'block' : 'none';\n",
              "}\n",
              "\n",
              "        displayQuickchartButton(document);\n",
              "      </script>\n",
              "      <style>\n",
              "    .colab-df-container {\n",
              "      display:flex;\n",
              "      flex-wrap:wrap;\n",
              "      gap: 12px;\n",
              "    }\n",
              "\n",
              "    .colab-df-convert {\n",
              "      background-color: #E8F0FE;\n",
              "      border: none;\n",
              "      border-radius: 50%;\n",
              "      cursor: pointer;\n",
              "      display: none;\n",
              "      fill: #1967D2;\n",
              "      height: 32px;\n",
              "      padding: 0 0 0 0;\n",
              "      width: 32px;\n",
              "    }\n",
              "\n",
              "    .colab-df-convert:hover {\n",
              "      background-color: #E2EBFA;\n",
              "      box-shadow: 0px 1px 2px rgba(60, 64, 67, 0.3), 0px 1px 3px 1px rgba(60, 64, 67, 0.15);\n",
              "      fill: #174EA6;\n",
              "    }\n",
              "\n",
              "    [theme=dark] .colab-df-convert {\n",
              "      background-color: #3B4455;\n",
              "      fill: #D2E3FC;\n",
              "    }\n",
              "\n",
              "    [theme=dark] .colab-df-convert:hover {\n",
              "      background-color: #434B5C;\n",
              "      box-shadow: 0px 1px 3px 1px rgba(0, 0, 0, 0.15);\n",
              "      filter: drop-shadow(0px 1px 2px rgba(0, 0, 0, 0.3));\n",
              "      fill: #FFFFFF;\n",
              "    }\n",
              "  </style>\n",
              "\n",
              "      <script>\n",
              "        const buttonEl =\n",
              "          document.querySelector('#df-4d457ad9-8e30-477c-9438-17cdc839f5ce button.colab-df-convert');\n",
              "        buttonEl.style.display =\n",
              "          google.colab.kernel.accessAllowed ? 'block' : 'none';\n",
              "\n",
              "        async function convertToInteractive(key) {\n",
              "          const element = document.querySelector('#df-4d457ad9-8e30-477c-9438-17cdc839f5ce');\n",
              "          const dataTable =\n",
              "            await google.colab.kernel.invokeFunction('convertToInteractive',\n",
              "                                                     [key], {});\n",
              "          if (!dataTable) return;\n",
              "\n",
              "          const docLinkHtml = 'Like what you see? Visit the ' +\n",
              "            '<a target=\"_blank\" href=https://colab.research.google.com/notebooks/data_table.ipynb>data table notebook</a>'\n",
              "            + ' to learn more about interactive tables.';\n",
              "          element.innerHTML = '';\n",
              "          dataTable['output_type'] = 'display_data';\n",
              "          await google.colab.output.renderOutput(dataTable, element);\n",
              "          const docLink = document.createElement('div');\n",
              "          docLink.innerHTML = docLinkHtml;\n",
              "          element.appendChild(docLink);\n",
              "        }\n",
              "      </script>\n",
              "    </div>\n",
              "  </div>\n"
            ]
          },
          "metadata": {},
          "execution_count": 32
        }
      ]
    },
    {
      "cell_type": "code",
      "source": [
        "# Calculer le taux de NA pour chaque colonne et fusionner avec les importances\n",
        "na_info = pd.DataFrame({\n",
        "    'feature': df_cleaned1.columns,\n",
        "    'NA Rate': df_cleaned1.isna().mean() * 100 # Multiplié par 100 pour avoir un pourcentage\n",
        "}).merge(importance_df, on='feature')\n",
        "\n",
        "# Trier par taux de NA\n",
        "na_info = na_info.sort_values(by='NA Rate')\n",
        "\n",
        "# Obtenir le rang d'importance\n",
        "na_info['Importance Ranking'] = na_info['importance'].rank(ascending=False)\n",
        "\n",
        "# Initialiser le résumé\n",
        "na_summary = []\n",
        "\n",
        "# Itérer sur chaque taux de NA unique\n",
        "for na_rate in na_info['NA Rate'].unique():\n",
        "    # Obtenir les lignes avec ce taux de NA\n",
        "    rows_with_na_rate = na_info[na_info['NA Rate'] == na_rate]\n",
        "\n",
        "    # Obtenir le nombre de colonnes, le rang d'importance le plus bas et le nombre de lignes restantes\n",
        "    summary_row = {\n",
        "        'NA Rate': na_rate,\n",
        "        'Number of Columns': len(rows_with_na_rate),\n",
        "        'Lowest Importance Ranking': rows_with_na_rate['Importance Ranking'].min(),\n",
        "        'Remaining Rows': len(df_cleaned.dropna(subset=rows_with_na_rate['feature']))\n",
        "    }\n",
        "\n",
        "    # Ajouter au résumé\n",
        "    na_summary.append(summary_row)\n",
        "\n",
        "# Convertir le résumé en DataFrame\n",
        "na_summary_df = pd.DataFrame(na_summary)\n",
        "\n",
        "# Afficher le DataFrame\n",
        "na_summary_df\n",
        "\n"
      ],
      "metadata": {
        "colab": {
          "base_uri": "https://localhost:8080/",
          "height": 519
        },
        "id": "BlkcEtiILu13",
        "outputId": "1dfe8eea-e246-4818-89b8-168670d9e30d"
      },
      "execution_count": 33,
      "outputs": [
        {
          "output_type": "execute_result",
          "data": {
            "text/plain": [
              "      NA Rate  Number of Columns  Lowest Importance Ranking  Remaining Rows\n",
              "0    0.000000                260                        1.0          356194\n",
              "1    5.160879                 24                       28.0          339526\n",
              "2    5.351143                163                       11.0          338797\n",
              "3    5.385944                  2                      277.0          338554\n",
              "4    5.424972                  3                       37.0          338545\n",
              "5    5.673780                 20                       53.0          337638\n",
              "6    5.676707                  3                       60.0          337629\n",
              "7    5.875753                 17                       30.0          337192\n",
              "8   14.314382                 46                       12.0          305759\n",
              "9   25.151317                 20                       38.0          267882\n",
              "10  25.383212                  1                      307.0          267767\n",
              "11  26.045072                  1                      259.0          264245\n",
              "12  29.384292                 20                       45.0          251774\n",
              "13  30.655973                  1                      288.0          249056\n",
              "14  42.551884                  1                      313.0          206195"
            ],
            "text/html": [
              "\n",
              "\n",
              "  <div id=\"df-ec2f2eb4-f186-445a-bfb4-467799573d56\">\n",
              "    <div class=\"colab-df-container\">\n",
              "      <div>\n",
              "<style scoped>\n",
              "    .dataframe tbody tr th:only-of-type {\n",
              "        vertical-align: middle;\n",
              "    }\n",
              "\n",
              "    .dataframe tbody tr th {\n",
              "        vertical-align: top;\n",
              "    }\n",
              "\n",
              "    .dataframe thead th {\n",
              "        text-align: right;\n",
              "    }\n",
              "</style>\n",
              "<table border=\"1\" class=\"dataframe\">\n",
              "  <thead>\n",
              "    <tr style=\"text-align: right;\">\n",
              "      <th></th>\n",
              "      <th>NA Rate</th>\n",
              "      <th>Number of Columns</th>\n",
              "      <th>Lowest Importance Ranking</th>\n",
              "      <th>Remaining Rows</th>\n",
              "    </tr>\n",
              "  </thead>\n",
              "  <tbody>\n",
              "    <tr>\n",
              "      <th>0</th>\n",
              "      <td>0.000000</td>\n",
              "      <td>260</td>\n",
              "      <td>1.0</td>\n",
              "      <td>356194</td>\n",
              "    </tr>\n",
              "    <tr>\n",
              "      <th>1</th>\n",
              "      <td>5.160879</td>\n",
              "      <td>24</td>\n",
              "      <td>28.0</td>\n",
              "      <td>339526</td>\n",
              "    </tr>\n",
              "    <tr>\n",
              "      <th>2</th>\n",
              "      <td>5.351143</td>\n",
              "      <td>163</td>\n",
              "      <td>11.0</td>\n",
              "      <td>338797</td>\n",
              "    </tr>\n",
              "    <tr>\n",
              "      <th>3</th>\n",
              "      <td>5.385944</td>\n",
              "      <td>2</td>\n",
              "      <td>277.0</td>\n",
              "      <td>338554</td>\n",
              "    </tr>\n",
              "    <tr>\n",
              "      <th>4</th>\n",
              "      <td>5.424972</td>\n",
              "      <td>3</td>\n",
              "      <td>37.0</td>\n",
              "      <td>338545</td>\n",
              "    </tr>\n",
              "    <tr>\n",
              "      <th>5</th>\n",
              "      <td>5.673780</td>\n",
              "      <td>20</td>\n",
              "      <td>53.0</td>\n",
              "      <td>337638</td>\n",
              "    </tr>\n",
              "    <tr>\n",
              "      <th>6</th>\n",
              "      <td>5.676707</td>\n",
              "      <td>3</td>\n",
              "      <td>60.0</td>\n",
              "      <td>337629</td>\n",
              "    </tr>\n",
              "    <tr>\n",
              "      <th>7</th>\n",
              "      <td>5.875753</td>\n",
              "      <td>17</td>\n",
              "      <td>30.0</td>\n",
              "      <td>337192</td>\n",
              "    </tr>\n",
              "    <tr>\n",
              "      <th>8</th>\n",
              "      <td>14.314382</td>\n",
              "      <td>46</td>\n",
              "      <td>12.0</td>\n",
              "      <td>305759</td>\n",
              "    </tr>\n",
              "    <tr>\n",
              "      <th>9</th>\n",
              "      <td>25.151317</td>\n",
              "      <td>20</td>\n",
              "      <td>38.0</td>\n",
              "      <td>267882</td>\n",
              "    </tr>\n",
              "    <tr>\n",
              "      <th>10</th>\n",
              "      <td>25.383212</td>\n",
              "      <td>1</td>\n",
              "      <td>307.0</td>\n",
              "      <td>267767</td>\n",
              "    </tr>\n",
              "    <tr>\n",
              "      <th>11</th>\n",
              "      <td>26.045072</td>\n",
              "      <td>1</td>\n",
              "      <td>259.0</td>\n",
              "      <td>264245</td>\n",
              "    </tr>\n",
              "    <tr>\n",
              "      <th>12</th>\n",
              "      <td>29.384292</td>\n",
              "      <td>20</td>\n",
              "      <td>45.0</td>\n",
              "      <td>251774</td>\n",
              "    </tr>\n",
              "    <tr>\n",
              "      <th>13</th>\n",
              "      <td>30.655973</td>\n",
              "      <td>1</td>\n",
              "      <td>288.0</td>\n",
              "      <td>249056</td>\n",
              "    </tr>\n",
              "    <tr>\n",
              "      <th>14</th>\n",
              "      <td>42.551884</td>\n",
              "      <td>1</td>\n",
              "      <td>313.0</td>\n",
              "      <td>206195</td>\n",
              "    </tr>\n",
              "  </tbody>\n",
              "</table>\n",
              "</div>\n",
              "      <button class=\"colab-df-convert\" onclick=\"convertToInteractive('df-ec2f2eb4-f186-445a-bfb4-467799573d56')\"\n",
              "              title=\"Convert this dataframe to an interactive table.\"\n",
              "              style=\"display:none;\">\n",
              "\n",
              "  <svg xmlns=\"http://www.w3.org/2000/svg\" height=\"24px\"viewBox=\"0 0 24 24\"\n",
              "       width=\"24px\">\n",
              "    <path d=\"M0 0h24v24H0V0z\" fill=\"none\"/>\n",
              "    <path d=\"M18.56 5.44l.94 2.06.94-2.06 2.06-.94-2.06-.94-.94-2.06-.94 2.06-2.06.94zm-11 1L8.5 8.5l.94-2.06 2.06-.94-2.06-.94L8.5 2.5l-.94 2.06-2.06.94zm10 10l.94 2.06.94-2.06 2.06-.94-2.06-.94-.94-2.06-.94 2.06-2.06.94z\"/><path d=\"M17.41 7.96l-1.37-1.37c-.4-.4-.92-.59-1.43-.59-.52 0-1.04.2-1.43.59L10.3 9.45l-7.72 7.72c-.78.78-.78 2.05 0 2.83L4 21.41c.39.39.9.59 1.41.59.51 0 1.02-.2 1.41-.59l7.78-7.78 2.81-2.81c.8-.78.8-2.07 0-2.86zM5.41 20L4 18.59l7.72-7.72 1.47 1.35L5.41 20z\"/>\n",
              "  </svg>\n",
              "      </button>\n",
              "\n",
              "\n",
              "\n",
              "    <div id=\"df-183dded1-7b6d-4ad6-aa02-46a0502d8809\">\n",
              "      <button class=\"colab-df-quickchart\" onclick=\"quickchart('df-183dded1-7b6d-4ad6-aa02-46a0502d8809')\"\n",
              "              title=\"Suggest charts.\"\n",
              "              style=\"display:none;\">\n",
              "\n",
              "<svg xmlns=\"http://www.w3.org/2000/svg\" height=\"24px\"viewBox=\"0 0 24 24\"\n",
              "     width=\"24px\">\n",
              "    <g>\n",
              "        <path d=\"M19 3H5c-1.1 0-2 .9-2 2v14c0 1.1.9 2 2 2h14c1.1 0 2-.9 2-2V5c0-1.1-.9-2-2-2zM9 17H7v-7h2v7zm4 0h-2V7h2v10zm4 0h-2v-4h2v4z\"/>\n",
              "    </g>\n",
              "</svg>\n",
              "      </button>\n",
              "    </div>\n",
              "\n",
              "<style>\n",
              "  .colab-df-quickchart {\n",
              "    background-color: #E8F0FE;\n",
              "    border: none;\n",
              "    border-radius: 50%;\n",
              "    cursor: pointer;\n",
              "    display: none;\n",
              "    fill: #1967D2;\n",
              "    height: 32px;\n",
              "    padding: 0 0 0 0;\n",
              "    width: 32px;\n",
              "  }\n",
              "\n",
              "  .colab-df-quickchart:hover {\n",
              "    background-color: #E2EBFA;\n",
              "    box-shadow: 0px 1px 2px rgba(60, 64, 67, 0.3), 0px 1px 3px 1px rgba(60, 64, 67, 0.15);\n",
              "    fill: #174EA6;\n",
              "  }\n",
              "\n",
              "  [theme=dark] .colab-df-quickchart {\n",
              "    background-color: #3B4455;\n",
              "    fill: #D2E3FC;\n",
              "  }\n",
              "\n",
              "  [theme=dark] .colab-df-quickchart:hover {\n",
              "    background-color: #434B5C;\n",
              "    box-shadow: 0px 1px 3px 1px rgba(0, 0, 0, 0.15);\n",
              "    filter: drop-shadow(0px 1px 2px rgba(0, 0, 0, 0.3));\n",
              "    fill: #FFFFFF;\n",
              "  }\n",
              "</style>\n",
              "\n",
              "    <script>\n",
              "      async function quickchart(key) {\n",
              "        const containerElement = document.querySelector('#' + key);\n",
              "        const charts = await google.colab.kernel.invokeFunction(\n",
              "            'suggestCharts', [key], {});\n",
              "      }\n",
              "    </script>\n",
              "\n",
              "      <script>\n",
              "\n",
              "function displayQuickchartButton(domScope) {\n",
              "  let quickchartButtonEl =\n",
              "    domScope.querySelector('#df-183dded1-7b6d-4ad6-aa02-46a0502d8809 button.colab-df-quickchart');\n",
              "  quickchartButtonEl.style.display =\n",
              "    google.colab.kernel.accessAllowed ? 'block' : 'none';\n",
              "}\n",
              "\n",
              "        displayQuickchartButton(document);\n",
              "      </script>\n",
              "      <style>\n",
              "    .colab-df-container {\n",
              "      display:flex;\n",
              "      flex-wrap:wrap;\n",
              "      gap: 12px;\n",
              "    }\n",
              "\n",
              "    .colab-df-convert {\n",
              "      background-color: #E8F0FE;\n",
              "      border: none;\n",
              "      border-radius: 50%;\n",
              "      cursor: pointer;\n",
              "      display: none;\n",
              "      fill: #1967D2;\n",
              "      height: 32px;\n",
              "      padding: 0 0 0 0;\n",
              "      width: 32px;\n",
              "    }\n",
              "\n",
              "    .colab-df-convert:hover {\n",
              "      background-color: #E2EBFA;\n",
              "      box-shadow: 0px 1px 2px rgba(60, 64, 67, 0.3), 0px 1px 3px 1px rgba(60, 64, 67, 0.15);\n",
              "      fill: #174EA6;\n",
              "    }\n",
              "\n",
              "    [theme=dark] .colab-df-convert {\n",
              "      background-color: #3B4455;\n",
              "      fill: #D2E3FC;\n",
              "    }\n",
              "\n",
              "    [theme=dark] .colab-df-convert:hover {\n",
              "      background-color: #434B5C;\n",
              "      box-shadow: 0px 1px 3px 1px rgba(0, 0, 0, 0.15);\n",
              "      filter: drop-shadow(0px 1px 2px rgba(0, 0, 0, 0.3));\n",
              "      fill: #FFFFFF;\n",
              "    }\n",
              "  </style>\n",
              "\n",
              "      <script>\n",
              "        const buttonEl =\n",
              "          document.querySelector('#df-ec2f2eb4-f186-445a-bfb4-467799573d56 button.colab-df-convert');\n",
              "        buttonEl.style.display =\n",
              "          google.colab.kernel.accessAllowed ? 'block' : 'none';\n",
              "\n",
              "        async function convertToInteractive(key) {\n",
              "          const element = document.querySelector('#df-ec2f2eb4-f186-445a-bfb4-467799573d56');\n",
              "          const dataTable =\n",
              "            await google.colab.kernel.invokeFunction('convertToInteractive',\n",
              "                                                     [key], {});\n",
              "          if (!dataTable) return;\n",
              "\n",
              "          const docLinkHtml = 'Like what you see? Visit the ' +\n",
              "            '<a target=\"_blank\" href=https://colab.research.google.com/notebooks/data_table.ipynb>data table notebook</a>'\n",
              "            + ' to learn more about interactive tables.';\n",
              "          element.innerHTML = '';\n",
              "          dataTable['output_type'] = 'display_data';\n",
              "          await google.colab.output.renderOutput(dataTable, element);\n",
              "          const docLink = document.createElement('div');\n",
              "          docLink.innerHTML = docLinkHtml;\n",
              "          element.appendChild(docLink);\n",
              "        }\n",
              "      </script>\n",
              "    </div>\n",
              "  </div>\n"
            ]
          },
          "metadata": {},
          "execution_count": 33
        }
      ]
    },
    {
      "cell_type": "code",
      "source": [
        "# Initialiser le résumé\n",
        "na_summary = []\n",
        "\n",
        "# Itérer sur chaque taux de NA unique\n",
        "for na_rate in na_info['NA Rate'].unique():\n",
        "    # Obtenir les lignes avec ce taux de NA\n",
        "    rows_with_na_rate = na_info[na_info['NA Rate'] == na_rate]\n",
        "\n",
        "    # Obtenir les colonnes avec ce taux de NA\n",
        "    columns_with_na_rate = rows_with_na_rate['feature'].tolist()\n",
        "\n",
        "    # Calculer le nombre de lignes où au moins une de ces colonnes est NA\n",
        "    involved_rows_count = df_cleaned1[columns_with_na_rate].isna().any(axis=1).sum()\n",
        "\n",
        "    # Obtenir le nombre de colonnes, le rang d'importance le plus bas et le nombre de lignes impliquées\n",
        "    summary_row = {\n",
        "        'NA Rate': na_rate,\n",
        "        'Number of Columns': len(rows_with_na_rate),\n",
        "        'Lowest Importance Ranking': rows_with_na_rate['Importance Ranking'].min(),\n",
        "        'Involved Rows': involved_rows_count,\n",
        "        'Liste': f'Colonne {len(na_summary)}'\n",
        "    }\n",
        "\n",
        "    # Ajouter au résumé\n",
        "    na_summary.append(summary_row)\n",
        "\n",
        "# Convertir le résumé en DataFrame\n",
        "na_summary_df = pd.DataFrame(na_summary)\n",
        "\n",
        "# Créer un dictionnaire pour stocker les listes de colonnes\n",
        "column_lists = {}\n",
        "for i, row in na_summary_df.iterrows():\n",
        "    na_rate = row['NA Rate']\n",
        "    columns_with_na_rate = na_info[na_info['NA Rate'] == na_rate]['feature'].tolist()\n",
        "    column_lists[row['Liste']] = columns_with_na_rate\n",
        "\n",
        "# Vous pouvez maintenant utiliser 'column_lists[\"Colonne 0\"]' pour obtenir la liste des colonnes pour le taux de NA 0.00000, etc.\n",
        "\n",
        "# Afficher le DataFrame\n",
        "na_summary_df"
      ],
      "metadata": {
        "colab": {
          "base_uri": "https://localhost:8080/",
          "height": 519
        },
        "id": "jwQMUsRLXVvj",
        "outputId": "7e2745f1-978a-44f6-9621-44131396555e"
      },
      "execution_count": 34,
      "outputs": [
        {
          "output_type": "execute_result",
          "data": {
            "text/plain": [
              "      NA Rate  Number of Columns  Lowest Importance Ranking  Involved Rows  \\\n",
              "0    0.000000                260                        1.0              0   \n",
              "1    5.160879                 24                       28.0          15868   \n",
              "2    5.351143                163                       11.0          16453   \n",
              "3    5.385944                  2                      277.0          16560   \n",
              "4    5.424972                  3                       37.0          16680   \n",
              "5    5.673780                 20                       53.0          17445   \n",
              "6    5.676707                  3                       60.0          17454   \n",
              "7    5.875753                 17                       30.0          18066   \n",
              "8   14.314382                 46                       12.0          44012   \n",
              "9   25.151317                 20                       38.0          77332   \n",
              "10  25.383212                  1                      307.0          78045   \n",
              "11  26.045072                  1                      259.0          80080   \n",
              "12  29.384292                 20                       45.0          90347   \n",
              "13  30.655973                  1                      288.0          94257   \n",
              "14  42.551884                  1                      313.0         130833   \n",
              "\n",
              "         Liste  \n",
              "0    Colonne 0  \n",
              "1    Colonne 1  \n",
              "2    Colonne 2  \n",
              "3    Colonne 3  \n",
              "4    Colonne 4  \n",
              "5    Colonne 5  \n",
              "6    Colonne 6  \n",
              "7    Colonne 7  \n",
              "8    Colonne 8  \n",
              "9    Colonne 9  \n",
              "10  Colonne 10  \n",
              "11  Colonne 11  \n",
              "12  Colonne 12  \n",
              "13  Colonne 13  \n",
              "14  Colonne 14  "
            ],
            "text/html": [
              "\n",
              "\n",
              "  <div id=\"df-f89114aa-07bc-4bed-902e-d3bbbf75cfb7\">\n",
              "    <div class=\"colab-df-container\">\n",
              "      <div>\n",
              "<style scoped>\n",
              "    .dataframe tbody tr th:only-of-type {\n",
              "        vertical-align: middle;\n",
              "    }\n",
              "\n",
              "    .dataframe tbody tr th {\n",
              "        vertical-align: top;\n",
              "    }\n",
              "\n",
              "    .dataframe thead th {\n",
              "        text-align: right;\n",
              "    }\n",
              "</style>\n",
              "<table border=\"1\" class=\"dataframe\">\n",
              "  <thead>\n",
              "    <tr style=\"text-align: right;\">\n",
              "      <th></th>\n",
              "      <th>NA Rate</th>\n",
              "      <th>Number of Columns</th>\n",
              "      <th>Lowest Importance Ranking</th>\n",
              "      <th>Involved Rows</th>\n",
              "      <th>Liste</th>\n",
              "    </tr>\n",
              "  </thead>\n",
              "  <tbody>\n",
              "    <tr>\n",
              "      <th>0</th>\n",
              "      <td>0.000000</td>\n",
              "      <td>260</td>\n",
              "      <td>1.0</td>\n",
              "      <td>0</td>\n",
              "      <td>Colonne 0</td>\n",
              "    </tr>\n",
              "    <tr>\n",
              "      <th>1</th>\n",
              "      <td>5.160879</td>\n",
              "      <td>24</td>\n",
              "      <td>28.0</td>\n",
              "      <td>15868</td>\n",
              "      <td>Colonne 1</td>\n",
              "    </tr>\n",
              "    <tr>\n",
              "      <th>2</th>\n",
              "      <td>5.351143</td>\n",
              "      <td>163</td>\n",
              "      <td>11.0</td>\n",
              "      <td>16453</td>\n",
              "      <td>Colonne 2</td>\n",
              "    </tr>\n",
              "    <tr>\n",
              "      <th>3</th>\n",
              "      <td>5.385944</td>\n",
              "      <td>2</td>\n",
              "      <td>277.0</td>\n",
              "      <td>16560</td>\n",
              "      <td>Colonne 3</td>\n",
              "    </tr>\n",
              "    <tr>\n",
              "      <th>4</th>\n",
              "      <td>5.424972</td>\n",
              "      <td>3</td>\n",
              "      <td>37.0</td>\n",
              "      <td>16680</td>\n",
              "      <td>Colonne 4</td>\n",
              "    </tr>\n",
              "    <tr>\n",
              "      <th>5</th>\n",
              "      <td>5.673780</td>\n",
              "      <td>20</td>\n",
              "      <td>53.0</td>\n",
              "      <td>17445</td>\n",
              "      <td>Colonne 5</td>\n",
              "    </tr>\n",
              "    <tr>\n",
              "      <th>6</th>\n",
              "      <td>5.676707</td>\n",
              "      <td>3</td>\n",
              "      <td>60.0</td>\n",
              "      <td>17454</td>\n",
              "      <td>Colonne 6</td>\n",
              "    </tr>\n",
              "    <tr>\n",
              "      <th>7</th>\n",
              "      <td>5.875753</td>\n",
              "      <td>17</td>\n",
              "      <td>30.0</td>\n",
              "      <td>18066</td>\n",
              "      <td>Colonne 7</td>\n",
              "    </tr>\n",
              "    <tr>\n",
              "      <th>8</th>\n",
              "      <td>14.314382</td>\n",
              "      <td>46</td>\n",
              "      <td>12.0</td>\n",
              "      <td>44012</td>\n",
              "      <td>Colonne 8</td>\n",
              "    </tr>\n",
              "    <tr>\n",
              "      <th>9</th>\n",
              "      <td>25.151317</td>\n",
              "      <td>20</td>\n",
              "      <td>38.0</td>\n",
              "      <td>77332</td>\n",
              "      <td>Colonne 9</td>\n",
              "    </tr>\n",
              "    <tr>\n",
              "      <th>10</th>\n",
              "      <td>25.383212</td>\n",
              "      <td>1</td>\n",
              "      <td>307.0</td>\n",
              "      <td>78045</td>\n",
              "      <td>Colonne 10</td>\n",
              "    </tr>\n",
              "    <tr>\n",
              "      <th>11</th>\n",
              "      <td>26.045072</td>\n",
              "      <td>1</td>\n",
              "      <td>259.0</td>\n",
              "      <td>80080</td>\n",
              "      <td>Colonne 11</td>\n",
              "    </tr>\n",
              "    <tr>\n",
              "      <th>12</th>\n",
              "      <td>29.384292</td>\n",
              "      <td>20</td>\n",
              "      <td>45.0</td>\n",
              "      <td>90347</td>\n",
              "      <td>Colonne 12</td>\n",
              "    </tr>\n",
              "    <tr>\n",
              "      <th>13</th>\n",
              "      <td>30.655973</td>\n",
              "      <td>1</td>\n",
              "      <td>288.0</td>\n",
              "      <td>94257</td>\n",
              "      <td>Colonne 13</td>\n",
              "    </tr>\n",
              "    <tr>\n",
              "      <th>14</th>\n",
              "      <td>42.551884</td>\n",
              "      <td>1</td>\n",
              "      <td>313.0</td>\n",
              "      <td>130833</td>\n",
              "      <td>Colonne 14</td>\n",
              "    </tr>\n",
              "  </tbody>\n",
              "</table>\n",
              "</div>\n",
              "      <button class=\"colab-df-convert\" onclick=\"convertToInteractive('df-f89114aa-07bc-4bed-902e-d3bbbf75cfb7')\"\n",
              "              title=\"Convert this dataframe to an interactive table.\"\n",
              "              style=\"display:none;\">\n",
              "\n",
              "  <svg xmlns=\"http://www.w3.org/2000/svg\" height=\"24px\"viewBox=\"0 0 24 24\"\n",
              "       width=\"24px\">\n",
              "    <path d=\"M0 0h24v24H0V0z\" fill=\"none\"/>\n",
              "    <path d=\"M18.56 5.44l.94 2.06.94-2.06 2.06-.94-2.06-.94-.94-2.06-.94 2.06-2.06.94zm-11 1L8.5 8.5l.94-2.06 2.06-.94-2.06-.94L8.5 2.5l-.94 2.06-2.06.94zm10 10l.94 2.06.94-2.06 2.06-.94-2.06-.94-.94-2.06-.94 2.06-2.06.94z\"/><path d=\"M17.41 7.96l-1.37-1.37c-.4-.4-.92-.59-1.43-.59-.52 0-1.04.2-1.43.59L10.3 9.45l-7.72 7.72c-.78.78-.78 2.05 0 2.83L4 21.41c.39.39.9.59 1.41.59.51 0 1.02-.2 1.41-.59l7.78-7.78 2.81-2.81c.8-.78.8-2.07 0-2.86zM5.41 20L4 18.59l7.72-7.72 1.47 1.35L5.41 20z\"/>\n",
              "  </svg>\n",
              "      </button>\n",
              "\n",
              "\n",
              "\n",
              "    <div id=\"df-a96dd06e-32fd-4c9f-9b2c-191843b062c6\">\n",
              "      <button class=\"colab-df-quickchart\" onclick=\"quickchart('df-a96dd06e-32fd-4c9f-9b2c-191843b062c6')\"\n",
              "              title=\"Suggest charts.\"\n",
              "              style=\"display:none;\">\n",
              "\n",
              "<svg xmlns=\"http://www.w3.org/2000/svg\" height=\"24px\"viewBox=\"0 0 24 24\"\n",
              "     width=\"24px\">\n",
              "    <g>\n",
              "        <path d=\"M19 3H5c-1.1 0-2 .9-2 2v14c0 1.1.9 2 2 2h14c1.1 0 2-.9 2-2V5c0-1.1-.9-2-2-2zM9 17H7v-7h2v7zm4 0h-2V7h2v10zm4 0h-2v-4h2v4z\"/>\n",
              "    </g>\n",
              "</svg>\n",
              "      </button>\n",
              "    </div>\n",
              "\n",
              "<style>\n",
              "  .colab-df-quickchart {\n",
              "    background-color: #E8F0FE;\n",
              "    border: none;\n",
              "    border-radius: 50%;\n",
              "    cursor: pointer;\n",
              "    display: none;\n",
              "    fill: #1967D2;\n",
              "    height: 32px;\n",
              "    padding: 0 0 0 0;\n",
              "    width: 32px;\n",
              "  }\n",
              "\n",
              "  .colab-df-quickchart:hover {\n",
              "    background-color: #E2EBFA;\n",
              "    box-shadow: 0px 1px 2px rgba(60, 64, 67, 0.3), 0px 1px 3px 1px rgba(60, 64, 67, 0.15);\n",
              "    fill: #174EA6;\n",
              "  }\n",
              "\n",
              "  [theme=dark] .colab-df-quickchart {\n",
              "    background-color: #3B4455;\n",
              "    fill: #D2E3FC;\n",
              "  }\n",
              "\n",
              "  [theme=dark] .colab-df-quickchart:hover {\n",
              "    background-color: #434B5C;\n",
              "    box-shadow: 0px 1px 3px 1px rgba(0, 0, 0, 0.15);\n",
              "    filter: drop-shadow(0px 1px 2px rgba(0, 0, 0, 0.3));\n",
              "    fill: #FFFFFF;\n",
              "  }\n",
              "</style>\n",
              "\n",
              "    <script>\n",
              "      async function quickchart(key) {\n",
              "        const containerElement = document.querySelector('#' + key);\n",
              "        const charts = await google.colab.kernel.invokeFunction(\n",
              "            'suggestCharts', [key], {});\n",
              "      }\n",
              "    </script>\n",
              "\n",
              "      <script>\n",
              "\n",
              "function displayQuickchartButton(domScope) {\n",
              "  let quickchartButtonEl =\n",
              "    domScope.querySelector('#df-a96dd06e-32fd-4c9f-9b2c-191843b062c6 button.colab-df-quickchart');\n",
              "  quickchartButtonEl.style.display =\n",
              "    google.colab.kernel.accessAllowed ? 'block' : 'none';\n",
              "}\n",
              "\n",
              "        displayQuickchartButton(document);\n",
              "      </script>\n",
              "      <style>\n",
              "    .colab-df-container {\n",
              "      display:flex;\n",
              "      flex-wrap:wrap;\n",
              "      gap: 12px;\n",
              "    }\n",
              "\n",
              "    .colab-df-convert {\n",
              "      background-color: #E8F0FE;\n",
              "      border: none;\n",
              "      border-radius: 50%;\n",
              "      cursor: pointer;\n",
              "      display: none;\n",
              "      fill: #1967D2;\n",
              "      height: 32px;\n",
              "      padding: 0 0 0 0;\n",
              "      width: 32px;\n",
              "    }\n",
              "\n",
              "    .colab-df-convert:hover {\n",
              "      background-color: #E2EBFA;\n",
              "      box-shadow: 0px 1px 2px rgba(60, 64, 67, 0.3), 0px 1px 3px 1px rgba(60, 64, 67, 0.15);\n",
              "      fill: #174EA6;\n",
              "    }\n",
              "\n",
              "    [theme=dark] .colab-df-convert {\n",
              "      background-color: #3B4455;\n",
              "      fill: #D2E3FC;\n",
              "    }\n",
              "\n",
              "    [theme=dark] .colab-df-convert:hover {\n",
              "      background-color: #434B5C;\n",
              "      box-shadow: 0px 1px 3px 1px rgba(0, 0, 0, 0.15);\n",
              "      filter: drop-shadow(0px 1px 2px rgba(0, 0, 0, 0.3));\n",
              "      fill: #FFFFFF;\n",
              "    }\n",
              "  </style>\n",
              "\n",
              "      <script>\n",
              "        const buttonEl =\n",
              "          document.querySelector('#df-f89114aa-07bc-4bed-902e-d3bbbf75cfb7 button.colab-df-convert');\n",
              "        buttonEl.style.display =\n",
              "          google.colab.kernel.accessAllowed ? 'block' : 'none';\n",
              "\n",
              "        async function convertToInteractive(key) {\n",
              "          const element = document.querySelector('#df-f89114aa-07bc-4bed-902e-d3bbbf75cfb7');\n",
              "          const dataTable =\n",
              "            await google.colab.kernel.invokeFunction('convertToInteractive',\n",
              "                                                     [key], {});\n",
              "          if (!dataTable) return;\n",
              "\n",
              "          const docLinkHtml = 'Like what you see? Visit the ' +\n",
              "            '<a target=\"_blank\" href=https://colab.research.google.com/notebooks/data_table.ipynb>data table notebook</a>'\n",
              "            + ' to learn more about interactive tables.';\n",
              "          element.innerHTML = '';\n",
              "          dataTable['output_type'] = 'display_data';\n",
              "          await google.colab.output.renderOutput(dataTable, element);\n",
              "          const docLink = document.createElement('div');\n",
              "          docLink.innerHTML = docLinkHtml;\n",
              "          element.appendChild(docLink);\n",
              "        }\n",
              "      </script>\n",
              "    </div>\n",
              "  </div>\n"
            ]
          },
          "metadata": {},
          "execution_count": 34
        }
      ]
    },
    {
      "cell_type": "code",
      "source": [
        "# Trouver les colonnes associées à \"Colonne 14\" et \"Colonne 13\"\n",
        "cr1 = column_lists['Colonne 14']\n",
        "cr1 += column_lists['Colonne 13']\n",
        "cr1 += column_lists['Colonne 12']\n",
        "cr1 += column_lists['Colonne 11']\n",
        "cr1 += column_lists['Colonne 10']\n",
        "cr1 += column_lists['Colonne 9']\n",
        "cr1 += column_lists['Colonne 6']\n",
        "cr1 += column_lists['Colonne 4']\n",
        "cr1 += column_lists['Colonne 3']\n",
        "\n",
        "# Combiner ces deux listes de colonnes\n",
        "columns_to_remove = cr1\n",
        "\n",
        "# Supprimer ces colonnes de df_cleaned\n",
        "df3 = df_cleaned.drop(columns=columns_to_remove)\n"
      ],
      "metadata": {
        "id": "XwS5sFeUXeyq"
      },
      "execution_count": 35,
      "outputs": []
    },
    {
      "cell_type": "code",
      "source": [
        "df3.isna().sum()"
      ],
      "metadata": {
        "colab": {
          "base_uri": "https://localhost:8080/"
        },
        "id": "xd1Z4Al7arOO",
        "outputId": "aa04c98d-1796-4c6d-e6b2-59db1506ecc6"
      },
      "execution_count": 36,
      "outputs": [
        {
          "output_type": "execute_result",
          "data": {
            "text/plain": [
              "index                                 0\n",
              "SK_ID_CURR                            0\n",
              "TARGET                            48727\n",
              "CODE_GENDER                           0\n",
              "FLAG_OWN_CAR                          0\n",
              "                                  ...  \n",
              "INSTAL_AMT_PAYMENT_SUM            16668\n",
              "INSTAL_DAYS_ENTRY_PAYMENT_MAX     16668\n",
              "INSTAL_DAYS_ENTRY_PAYMENT_MEAN    16668\n",
              "INSTAL_DAYS_ENTRY_PAYMENT_SUM     16668\n",
              "INSTAL_COUNT                      16668\n",
              "Length: 531, dtype: int64"
            ]
          },
          "metadata": {},
          "execution_count": 36
        }
      ]
    },
    {
      "cell_type": "code",
      "source": [
        "# Sélectionnez toutes les colonnes sauf 'TARGET'\n",
        "columns_to_check = [col for col in df3.columns if col != 'TARGET']\n",
        "\n",
        "# Supprimez les lignes contenant des valeurs NA dans les colonnes sélectionnées\n",
        "df4 = df3.dropna(subset=columns_to_check)"
      ],
      "metadata": {
        "id": "3Onf-zIx0e28"
      },
      "execution_count": 37,
      "outputs": []
    },
    {
      "cell_type": "code",
      "source": [
        "df4.isna().sum().sum()"
      ],
      "metadata": {
        "colab": {
          "base_uri": "https://localhost:8080/"
        },
        "id": "F29_ZrgYdz_L",
        "outputId": "2e738792-d03c-4857-90c0-c42006e86673"
      },
      "execution_count": 38,
      "outputs": [
        {
          "output_type": "execute_result",
          "data": {
            "text/plain": [
              "41296"
            ]
          },
          "metadata": {},
          "execution_count": 38
        }
      ]
    },
    {
      "cell_type": "code",
      "source": [
        "df4.shape"
      ],
      "metadata": {
        "colab": {
          "base_uri": "https://localhost:8080/"
        },
        "id": "gKJ8rW9poXrR",
        "outputId": "b0f6bc57-504c-40b6-d475-f4e59904e9c4"
      },
      "execution_count": 39,
      "outputs": [
        {
          "output_type": "execute_result",
          "data": {
            "text/plain": [
              "(288016, 531)"
            ]
          },
          "metadata": {},
          "execution_count": 39
        }
      ]
    },
    {
      "cell_type": "code",
      "source": [
        "final = \"/content/drive/MyDrive/OPENCLASSROOM/PROJET 7/df4.csv\"\n",
        "df4.to_csv(final, index=False)"
      ],
      "metadata": {
        "id": "2UZDSpD4qNWR"
      },
      "execution_count": 40,
      "outputs": []
    },
    {
      "cell_type": "markdown",
      "source": [
        "<h1 align=center>PARAMETRAGE NO-NAN</h1>"
      ],
      "metadata": {
        "id": "sBteTP-0qlYo"
      }
    },
    {
      "cell_type": "code",
      "source": [
        "# Calculer le pourcentage de valeurs manquantes pour chaque colonne (hors 'TARGET')\n",
        "na_percentage = df_final.drop(columns=['TARGET']).isna().mean().sort_values(ascending=False) * 100\n",
        "\n",
        "# Créer un DataFrame pour visualiser les résultats\n",
        "na_pareto_df = pd.DataFrame({\n",
        "    'Column': na_percentage.index,\n",
        "    'NA Percentage': na_percentage.values\n",
        "})"
      ],
      "metadata": {
        "id": "tZaJPNX3qkHo"
      },
      "execution_count": 41,
      "outputs": []
    },
    {
      "cell_type": "code",
      "source": [
        "# Afficher le résultat\n",
        "na_pareto_df[0:51]"
      ],
      "metadata": {
        "colab": {
          "base_uri": "https://localhost:8080/",
          "height": 1000
        },
        "id": "NTurg_rFrIvJ",
        "outputId": "09be1339-e785-462f-c9a6-f0c9a9b994a9"
      },
      "execution_count": 42,
      "outputs": [
        {
          "output_type": "execute_result",
          "data": {
            "text/plain": [
              "                                               Column  NA Percentage\n",
              "0                              CLOSED_DAYS_CREDIT_VAR      42.111602\n",
              "1                        APPROVED_APP_CREDIT_PERC_VAR      30.078553\n",
              "2                     ACTIVE_AMT_CREDIT_SUM_DEBT_MEAN      29.315485\n",
              "3                  ACTIVE_AMT_CREDIT_SUM_OVERDUE_MEAN      29.315485\n",
              "4                    ACTIVE_AMT_CREDIT_SUM_LIMIT_MEAN      29.315485\n",
              "5                     ACTIVE_AMT_CREDIT_SUM_LIMIT_SUM      29.315485\n",
              "6                       ACTIVE_CNT_CREDIT_PROLONG_SUM      29.315485\n",
              "7                      ACTIVE_MONTHS_BALANCE_SIZE_SUM      29.315485\n",
              "8                              ACTIVE_DAYS_CREDIT_MIN      29.315485\n",
              "9                              ACTIVE_DAYS_CREDIT_MAX      29.315485\n",
              "10                            ACTIVE_DAYS_CREDIT_MEAN      29.315485\n",
              "11                     ACTIVE_DAYS_CREDIT_ENDDATE_MIN      29.315485\n",
              "12                     ACTIVE_DAYS_CREDIT_ENDDATE_MAX      29.315485\n",
              "13                    ACTIVE_DAYS_CREDIT_ENDDATE_MEAN      29.315485\n",
              "14                     ACTIVE_DAYS_CREDIT_UPDATE_MEAN      29.315485\n",
              "15                      ACTIVE_CREDIT_DAY_OVERDUE_MAX      29.315485\n",
              "16                     ACTIVE_CREDIT_DAY_OVERDUE_MEAN      29.315485\n",
              "17                          ACTIVE_AMT_CREDIT_SUM_MAX      29.315485\n",
              "18                         ACTIVE_AMT_CREDIT_SUM_MEAN      29.315485\n",
              "19                          ACTIVE_AMT_CREDIT_SUM_SUM      29.315485\n",
              "20                     ACTIVE_AMT_CREDIT_SUM_DEBT_MAX      29.315485\n",
              "21                     ACTIVE_AMT_CREDIT_SUM_DEBT_SUM      29.315485\n",
              "22                               BURO_DAYS_CREDIT_VAR      25.814303\n",
              "23                           PREV_APP_CREDIT_PERC_VAR      24.825516\n",
              "24                    CLOSED_DAYS_CREDIT_ENDDATE_MEAN      24.793231\n",
              "25                         CLOSED_AMT_CREDIT_SUM_MEAN      24.793231\n",
              "26                             CLOSED_DAYS_CREDIT_MIN      24.793231\n",
              "27                             CLOSED_DAYS_CREDIT_MAX      24.793231\n",
              "28                            CLOSED_DAYS_CREDIT_MEAN      24.793231\n",
              "29                     CLOSED_DAYS_CREDIT_ENDDATE_MIN      24.793231\n",
              "30                     CLOSED_DAYS_CREDIT_ENDDATE_MAX      24.793231\n",
              "31                     CLOSED_DAYS_CREDIT_UPDATE_MEAN      24.793231\n",
              "32                      CLOSED_CREDIT_DAY_OVERDUE_MAX      24.793231\n",
              "33                     CLOSED_CREDIT_DAY_OVERDUE_MEAN      24.793231\n",
              "34                          CLOSED_AMT_CREDIT_SUM_MAX      24.793231\n",
              "35                          CLOSED_AMT_CREDIT_SUM_SUM      24.793231\n",
              "36                     CLOSED_AMT_CREDIT_SUM_DEBT_MAX      24.793231\n",
              "37                    CLOSED_AMT_CREDIT_SUM_DEBT_MEAN      24.793231\n",
              "38                     CLOSED_AMT_CREDIT_SUM_DEBT_SUM      24.793231\n",
              "39                 CLOSED_AMT_CREDIT_SUM_OVERDUE_MEAN      24.793231\n",
              "40                   CLOSED_AMT_CREDIT_SUM_LIMIT_MEAN      24.793231\n",
              "41                    CLOSED_AMT_CREDIT_SUM_LIMIT_SUM      24.793231\n",
              "42                      CLOSED_CNT_CREDIT_PROLONG_SUM      24.793231\n",
              "43                     CLOSED_MONTHS_BALANCE_SIZE_SUM      24.793231\n",
              "44         BURO_CREDIT_TYPE_Mobile operator loan_MEAN      14.159419\n",
              "45                    BURO_CREDIT_TYPE_Microloan_MEAN      14.159419\n",
              "46                              BURO_DAYS_CREDIT_MEAN      14.159419\n",
              "47                               BURO_DAYS_CREDIT_MAX      14.159419\n",
              "48                               BURO_DAYS_CREDIT_MIN      14.159419\n",
              "49  BURO_CREDIT_TYPE_Loan for business development...      14.159419\n",
              "50                     BURO_CREDIT_TYPE_Mortgage_MEAN      14.159419"
            ],
            "text/html": [
              "\n",
              "\n",
              "  <div id=\"df-e7d1796d-455e-495e-9061-3806d1a5ae57\">\n",
              "    <div class=\"colab-df-container\">\n",
              "      <div>\n",
              "<style scoped>\n",
              "    .dataframe tbody tr th:only-of-type {\n",
              "        vertical-align: middle;\n",
              "    }\n",
              "\n",
              "    .dataframe tbody tr th {\n",
              "        vertical-align: top;\n",
              "    }\n",
              "\n",
              "    .dataframe thead th {\n",
              "        text-align: right;\n",
              "    }\n",
              "</style>\n",
              "<table border=\"1\" class=\"dataframe\">\n",
              "  <thead>\n",
              "    <tr style=\"text-align: right;\">\n",
              "      <th></th>\n",
              "      <th>Column</th>\n",
              "      <th>NA Percentage</th>\n",
              "    </tr>\n",
              "  </thead>\n",
              "  <tbody>\n",
              "    <tr>\n",
              "      <th>0</th>\n",
              "      <td>CLOSED_DAYS_CREDIT_VAR</td>\n",
              "      <td>42.111602</td>\n",
              "    </tr>\n",
              "    <tr>\n",
              "      <th>1</th>\n",
              "      <td>APPROVED_APP_CREDIT_PERC_VAR</td>\n",
              "      <td>30.078553</td>\n",
              "    </tr>\n",
              "    <tr>\n",
              "      <th>2</th>\n",
              "      <td>ACTIVE_AMT_CREDIT_SUM_DEBT_MEAN</td>\n",
              "      <td>29.315485</td>\n",
              "    </tr>\n",
              "    <tr>\n",
              "      <th>3</th>\n",
              "      <td>ACTIVE_AMT_CREDIT_SUM_OVERDUE_MEAN</td>\n",
              "      <td>29.315485</td>\n",
              "    </tr>\n",
              "    <tr>\n",
              "      <th>4</th>\n",
              "      <td>ACTIVE_AMT_CREDIT_SUM_LIMIT_MEAN</td>\n",
              "      <td>29.315485</td>\n",
              "    </tr>\n",
              "    <tr>\n",
              "      <th>5</th>\n",
              "      <td>ACTIVE_AMT_CREDIT_SUM_LIMIT_SUM</td>\n",
              "      <td>29.315485</td>\n",
              "    </tr>\n",
              "    <tr>\n",
              "      <th>6</th>\n",
              "      <td>ACTIVE_CNT_CREDIT_PROLONG_SUM</td>\n",
              "      <td>29.315485</td>\n",
              "    </tr>\n",
              "    <tr>\n",
              "      <th>7</th>\n",
              "      <td>ACTIVE_MONTHS_BALANCE_SIZE_SUM</td>\n",
              "      <td>29.315485</td>\n",
              "    </tr>\n",
              "    <tr>\n",
              "      <th>8</th>\n",
              "      <td>ACTIVE_DAYS_CREDIT_MIN</td>\n",
              "      <td>29.315485</td>\n",
              "    </tr>\n",
              "    <tr>\n",
              "      <th>9</th>\n",
              "      <td>ACTIVE_DAYS_CREDIT_MAX</td>\n",
              "      <td>29.315485</td>\n",
              "    </tr>\n",
              "    <tr>\n",
              "      <th>10</th>\n",
              "      <td>ACTIVE_DAYS_CREDIT_MEAN</td>\n",
              "      <td>29.315485</td>\n",
              "    </tr>\n",
              "    <tr>\n",
              "      <th>11</th>\n",
              "      <td>ACTIVE_DAYS_CREDIT_ENDDATE_MIN</td>\n",
              "      <td>29.315485</td>\n",
              "    </tr>\n",
              "    <tr>\n",
              "      <th>12</th>\n",
              "      <td>ACTIVE_DAYS_CREDIT_ENDDATE_MAX</td>\n",
              "      <td>29.315485</td>\n",
              "    </tr>\n",
              "    <tr>\n",
              "      <th>13</th>\n",
              "      <td>ACTIVE_DAYS_CREDIT_ENDDATE_MEAN</td>\n",
              "      <td>29.315485</td>\n",
              "    </tr>\n",
              "    <tr>\n",
              "      <th>14</th>\n",
              "      <td>ACTIVE_DAYS_CREDIT_UPDATE_MEAN</td>\n",
              "      <td>29.315485</td>\n",
              "    </tr>\n",
              "    <tr>\n",
              "      <th>15</th>\n",
              "      <td>ACTIVE_CREDIT_DAY_OVERDUE_MAX</td>\n",
              "      <td>29.315485</td>\n",
              "    </tr>\n",
              "    <tr>\n",
              "      <th>16</th>\n",
              "      <td>ACTIVE_CREDIT_DAY_OVERDUE_MEAN</td>\n",
              "      <td>29.315485</td>\n",
              "    </tr>\n",
              "    <tr>\n",
              "      <th>17</th>\n",
              "      <td>ACTIVE_AMT_CREDIT_SUM_MAX</td>\n",
              "      <td>29.315485</td>\n",
              "    </tr>\n",
              "    <tr>\n",
              "      <th>18</th>\n",
              "      <td>ACTIVE_AMT_CREDIT_SUM_MEAN</td>\n",
              "      <td>29.315485</td>\n",
              "    </tr>\n",
              "    <tr>\n",
              "      <th>19</th>\n",
              "      <td>ACTIVE_AMT_CREDIT_SUM_SUM</td>\n",
              "      <td>29.315485</td>\n",
              "    </tr>\n",
              "    <tr>\n",
              "      <th>20</th>\n",
              "      <td>ACTIVE_AMT_CREDIT_SUM_DEBT_MAX</td>\n",
              "      <td>29.315485</td>\n",
              "    </tr>\n",
              "    <tr>\n",
              "      <th>21</th>\n",
              "      <td>ACTIVE_AMT_CREDIT_SUM_DEBT_SUM</td>\n",
              "      <td>29.315485</td>\n",
              "    </tr>\n",
              "    <tr>\n",
              "      <th>22</th>\n",
              "      <td>BURO_DAYS_CREDIT_VAR</td>\n",
              "      <td>25.814303</td>\n",
              "    </tr>\n",
              "    <tr>\n",
              "      <th>23</th>\n",
              "      <td>PREV_APP_CREDIT_PERC_VAR</td>\n",
              "      <td>24.825516</td>\n",
              "    </tr>\n",
              "    <tr>\n",
              "      <th>24</th>\n",
              "      <td>CLOSED_DAYS_CREDIT_ENDDATE_MEAN</td>\n",
              "      <td>24.793231</td>\n",
              "    </tr>\n",
              "    <tr>\n",
              "      <th>25</th>\n",
              "      <td>CLOSED_AMT_CREDIT_SUM_MEAN</td>\n",
              "      <td>24.793231</td>\n",
              "    </tr>\n",
              "    <tr>\n",
              "      <th>26</th>\n",
              "      <td>CLOSED_DAYS_CREDIT_MIN</td>\n",
              "      <td>24.793231</td>\n",
              "    </tr>\n",
              "    <tr>\n",
              "      <th>27</th>\n",
              "      <td>CLOSED_DAYS_CREDIT_MAX</td>\n",
              "      <td>24.793231</td>\n",
              "    </tr>\n",
              "    <tr>\n",
              "      <th>28</th>\n",
              "      <td>CLOSED_DAYS_CREDIT_MEAN</td>\n",
              "      <td>24.793231</td>\n",
              "    </tr>\n",
              "    <tr>\n",
              "      <th>29</th>\n",
              "      <td>CLOSED_DAYS_CREDIT_ENDDATE_MIN</td>\n",
              "      <td>24.793231</td>\n",
              "    </tr>\n",
              "    <tr>\n",
              "      <th>30</th>\n",
              "      <td>CLOSED_DAYS_CREDIT_ENDDATE_MAX</td>\n",
              "      <td>24.793231</td>\n",
              "    </tr>\n",
              "    <tr>\n",
              "      <th>31</th>\n",
              "      <td>CLOSED_DAYS_CREDIT_UPDATE_MEAN</td>\n",
              "      <td>24.793231</td>\n",
              "    </tr>\n",
              "    <tr>\n",
              "      <th>32</th>\n",
              "      <td>CLOSED_CREDIT_DAY_OVERDUE_MAX</td>\n",
              "      <td>24.793231</td>\n",
              "    </tr>\n",
              "    <tr>\n",
              "      <th>33</th>\n",
              "      <td>CLOSED_CREDIT_DAY_OVERDUE_MEAN</td>\n",
              "      <td>24.793231</td>\n",
              "    </tr>\n",
              "    <tr>\n",
              "      <th>34</th>\n",
              "      <td>CLOSED_AMT_CREDIT_SUM_MAX</td>\n",
              "      <td>24.793231</td>\n",
              "    </tr>\n",
              "    <tr>\n",
              "      <th>35</th>\n",
              "      <td>CLOSED_AMT_CREDIT_SUM_SUM</td>\n",
              "      <td>24.793231</td>\n",
              "    </tr>\n",
              "    <tr>\n",
              "      <th>36</th>\n",
              "      <td>CLOSED_AMT_CREDIT_SUM_DEBT_MAX</td>\n",
              "      <td>24.793231</td>\n",
              "    </tr>\n",
              "    <tr>\n",
              "      <th>37</th>\n",
              "      <td>CLOSED_AMT_CREDIT_SUM_DEBT_MEAN</td>\n",
              "      <td>24.793231</td>\n",
              "    </tr>\n",
              "    <tr>\n",
              "      <th>38</th>\n",
              "      <td>CLOSED_AMT_CREDIT_SUM_DEBT_SUM</td>\n",
              "      <td>24.793231</td>\n",
              "    </tr>\n",
              "    <tr>\n",
              "      <th>39</th>\n",
              "      <td>CLOSED_AMT_CREDIT_SUM_OVERDUE_MEAN</td>\n",
              "      <td>24.793231</td>\n",
              "    </tr>\n",
              "    <tr>\n",
              "      <th>40</th>\n",
              "      <td>CLOSED_AMT_CREDIT_SUM_LIMIT_MEAN</td>\n",
              "      <td>24.793231</td>\n",
              "    </tr>\n",
              "    <tr>\n",
              "      <th>41</th>\n",
              "      <td>CLOSED_AMT_CREDIT_SUM_LIMIT_SUM</td>\n",
              "      <td>24.793231</td>\n",
              "    </tr>\n",
              "    <tr>\n",
              "      <th>42</th>\n",
              "      <td>CLOSED_CNT_CREDIT_PROLONG_SUM</td>\n",
              "      <td>24.793231</td>\n",
              "    </tr>\n",
              "    <tr>\n",
              "      <th>43</th>\n",
              "      <td>CLOSED_MONTHS_BALANCE_SIZE_SUM</td>\n",
              "      <td>24.793231</td>\n",
              "    </tr>\n",
              "    <tr>\n",
              "      <th>44</th>\n",
              "      <td>BURO_CREDIT_TYPE_Mobile operator loan_MEAN</td>\n",
              "      <td>14.159419</td>\n",
              "    </tr>\n",
              "    <tr>\n",
              "      <th>45</th>\n",
              "      <td>BURO_CREDIT_TYPE_Microloan_MEAN</td>\n",
              "      <td>14.159419</td>\n",
              "    </tr>\n",
              "    <tr>\n",
              "      <th>46</th>\n",
              "      <td>BURO_DAYS_CREDIT_MEAN</td>\n",
              "      <td>14.159419</td>\n",
              "    </tr>\n",
              "    <tr>\n",
              "      <th>47</th>\n",
              "      <td>BURO_DAYS_CREDIT_MAX</td>\n",
              "      <td>14.159419</td>\n",
              "    </tr>\n",
              "    <tr>\n",
              "      <th>48</th>\n",
              "      <td>BURO_DAYS_CREDIT_MIN</td>\n",
              "      <td>14.159419</td>\n",
              "    </tr>\n",
              "    <tr>\n",
              "      <th>49</th>\n",
              "      <td>BURO_CREDIT_TYPE_Loan for business development...</td>\n",
              "      <td>14.159419</td>\n",
              "    </tr>\n",
              "    <tr>\n",
              "      <th>50</th>\n",
              "      <td>BURO_CREDIT_TYPE_Mortgage_MEAN</td>\n",
              "      <td>14.159419</td>\n",
              "    </tr>\n",
              "  </tbody>\n",
              "</table>\n",
              "</div>\n",
              "      <button class=\"colab-df-convert\" onclick=\"convertToInteractive('df-e7d1796d-455e-495e-9061-3806d1a5ae57')\"\n",
              "              title=\"Convert this dataframe to an interactive table.\"\n",
              "              style=\"display:none;\">\n",
              "\n",
              "  <svg xmlns=\"http://www.w3.org/2000/svg\" height=\"24px\"viewBox=\"0 0 24 24\"\n",
              "       width=\"24px\">\n",
              "    <path d=\"M0 0h24v24H0V0z\" fill=\"none\"/>\n",
              "    <path d=\"M18.56 5.44l.94 2.06.94-2.06 2.06-.94-2.06-.94-.94-2.06-.94 2.06-2.06.94zm-11 1L8.5 8.5l.94-2.06 2.06-.94-2.06-.94L8.5 2.5l-.94 2.06-2.06.94zm10 10l.94 2.06.94-2.06 2.06-.94-2.06-.94-.94-2.06-.94 2.06-2.06.94z\"/><path d=\"M17.41 7.96l-1.37-1.37c-.4-.4-.92-.59-1.43-.59-.52 0-1.04.2-1.43.59L10.3 9.45l-7.72 7.72c-.78.78-.78 2.05 0 2.83L4 21.41c.39.39.9.59 1.41.59.51 0 1.02-.2 1.41-.59l7.78-7.78 2.81-2.81c.8-.78.8-2.07 0-2.86zM5.41 20L4 18.59l7.72-7.72 1.47 1.35L5.41 20z\"/>\n",
              "  </svg>\n",
              "      </button>\n",
              "\n",
              "\n",
              "\n",
              "    <div id=\"df-f14fe2db-b877-4aa4-af8b-dadf8c3d214d\">\n",
              "      <button class=\"colab-df-quickchart\" onclick=\"quickchart('df-f14fe2db-b877-4aa4-af8b-dadf8c3d214d')\"\n",
              "              title=\"Suggest charts.\"\n",
              "              style=\"display:none;\">\n",
              "\n",
              "<svg xmlns=\"http://www.w3.org/2000/svg\" height=\"24px\"viewBox=\"0 0 24 24\"\n",
              "     width=\"24px\">\n",
              "    <g>\n",
              "        <path d=\"M19 3H5c-1.1 0-2 .9-2 2v14c0 1.1.9 2 2 2h14c1.1 0 2-.9 2-2V5c0-1.1-.9-2-2-2zM9 17H7v-7h2v7zm4 0h-2V7h2v10zm4 0h-2v-4h2v4z\"/>\n",
              "    </g>\n",
              "</svg>\n",
              "      </button>\n",
              "    </div>\n",
              "\n",
              "<style>\n",
              "  .colab-df-quickchart {\n",
              "    background-color: #E8F0FE;\n",
              "    border: none;\n",
              "    border-radius: 50%;\n",
              "    cursor: pointer;\n",
              "    display: none;\n",
              "    fill: #1967D2;\n",
              "    height: 32px;\n",
              "    padding: 0 0 0 0;\n",
              "    width: 32px;\n",
              "  }\n",
              "\n",
              "  .colab-df-quickchart:hover {\n",
              "    background-color: #E2EBFA;\n",
              "    box-shadow: 0px 1px 2px rgba(60, 64, 67, 0.3), 0px 1px 3px 1px rgba(60, 64, 67, 0.15);\n",
              "    fill: #174EA6;\n",
              "  }\n",
              "\n",
              "  [theme=dark] .colab-df-quickchart {\n",
              "    background-color: #3B4455;\n",
              "    fill: #D2E3FC;\n",
              "  }\n",
              "\n",
              "  [theme=dark] .colab-df-quickchart:hover {\n",
              "    background-color: #434B5C;\n",
              "    box-shadow: 0px 1px 3px 1px rgba(0, 0, 0, 0.15);\n",
              "    filter: drop-shadow(0px 1px 2px rgba(0, 0, 0, 0.3));\n",
              "    fill: #FFFFFF;\n",
              "  }\n",
              "</style>\n",
              "\n",
              "    <script>\n",
              "      async function quickchart(key) {\n",
              "        const containerElement = document.querySelector('#' + key);\n",
              "        const charts = await google.colab.kernel.invokeFunction(\n",
              "            'suggestCharts', [key], {});\n",
              "      }\n",
              "    </script>\n",
              "\n",
              "      <script>\n",
              "\n",
              "function displayQuickchartButton(domScope) {\n",
              "  let quickchartButtonEl =\n",
              "    domScope.querySelector('#df-f14fe2db-b877-4aa4-af8b-dadf8c3d214d button.colab-df-quickchart');\n",
              "  quickchartButtonEl.style.display =\n",
              "    google.colab.kernel.accessAllowed ? 'block' : 'none';\n",
              "}\n",
              "\n",
              "        displayQuickchartButton(document);\n",
              "      </script>\n",
              "      <style>\n",
              "    .colab-df-container {\n",
              "      display:flex;\n",
              "      flex-wrap:wrap;\n",
              "      gap: 12px;\n",
              "    }\n",
              "\n",
              "    .colab-df-convert {\n",
              "      background-color: #E8F0FE;\n",
              "      border: none;\n",
              "      border-radius: 50%;\n",
              "      cursor: pointer;\n",
              "      display: none;\n",
              "      fill: #1967D2;\n",
              "      height: 32px;\n",
              "      padding: 0 0 0 0;\n",
              "      width: 32px;\n",
              "    }\n",
              "\n",
              "    .colab-df-convert:hover {\n",
              "      background-color: #E2EBFA;\n",
              "      box-shadow: 0px 1px 2px rgba(60, 64, 67, 0.3), 0px 1px 3px 1px rgba(60, 64, 67, 0.15);\n",
              "      fill: #174EA6;\n",
              "    }\n",
              "\n",
              "    [theme=dark] .colab-df-convert {\n",
              "      background-color: #3B4455;\n",
              "      fill: #D2E3FC;\n",
              "    }\n",
              "\n",
              "    [theme=dark] .colab-df-convert:hover {\n",
              "      background-color: #434B5C;\n",
              "      box-shadow: 0px 1px 3px 1px rgba(0, 0, 0, 0.15);\n",
              "      filter: drop-shadow(0px 1px 2px rgba(0, 0, 0, 0.3));\n",
              "      fill: #FFFFFF;\n",
              "    }\n",
              "  </style>\n",
              "\n",
              "      <script>\n",
              "        const buttonEl =\n",
              "          document.querySelector('#df-e7d1796d-455e-495e-9061-3806d1a5ae57 button.colab-df-convert');\n",
              "        buttonEl.style.display =\n",
              "          google.colab.kernel.accessAllowed ? 'block' : 'none';\n",
              "\n",
              "        async function convertToInteractive(key) {\n",
              "          const element = document.querySelector('#df-e7d1796d-455e-495e-9061-3806d1a5ae57');\n",
              "          const dataTable =\n",
              "            await google.colab.kernel.invokeFunction('convertToInteractive',\n",
              "                                                     [key], {});\n",
              "          if (!dataTable) return;\n",
              "\n",
              "          const docLinkHtml = 'Like what you see? Visit the ' +\n",
              "            '<a target=\"_blank\" href=https://colab.research.google.com/notebooks/data_table.ipynb>data table notebook</a>'\n",
              "            + ' to learn more about interactive tables.';\n",
              "          element.innerHTML = '';\n",
              "          dataTable['output_type'] = 'display_data';\n",
              "          await google.colab.output.renderOutput(dataTable, element);\n",
              "          const docLink = document.createElement('div');\n",
              "          docLink.innerHTML = docLinkHtml;\n",
              "          element.appendChild(docLink);\n",
              "        }\n",
              "      </script>\n",
              "    </div>\n",
              "  </div>\n"
            ]
          },
          "metadata": {},
          "execution_count": 42
        }
      ]
    },
    {
      "cell_type": "code",
      "source": [
        "# Calculer le nombre de lignes impliquées pour chaque colonne\n",
        "na_pareto_df['Involved Rows'] = (na_pareto_df['NA Percentage'] / 100) * len(df_final)\n",
        "\n",
        "# Grouper les données par le pourcentage de valeurs manquantes (NA) et calculer le nombre de colonnes et les lignes impliquées\n",
        "aggregated_data = na_pareto_df.groupby('NA Percentage').agg(\n",
        "    Number_of_Columns=pd.NamedAgg(column='Column', aggfunc='count'),\n",
        "    Involved_Rows=pd.NamedAgg(column='Involved Rows', aggfunc='sum')\n",
        ").reset_index()\n",
        "\n",
        "# Afficher le résultat\n",
        "print(aggregated_data)"
      ],
      "metadata": {
        "colab": {
          "base_uri": "https://localhost:8080/"
        },
        "id": "39UYAQXjtCDt",
        "outputId": "a332de41-a144-4d93-f8bc-8b4bb4225dd0"
      },
      "execution_count": 43,
      "outputs": [
        {
          "output_type": "stream",
          "name": "stdout",
          "text": [
            "    NA Percentage  Number_of_Columns  Involved_Rows\n",
            "0        0.000000                260            0.0\n",
            "1        4.679472                 24       400032.0\n",
            "2        4.884136                163      2835711.0\n",
            "3        4.952357                  2        35280.0\n",
            "4        4.954884                  3        52947.0\n",
            "5        5.209521                 20       371120.0\n",
            "6        5.212047                  3        55695.0\n",
            "7        5.334733                 17       323034.0\n",
            "8       14.159419                 46      2320010.0\n",
            "9       24.793231                 20      1766240.0\n",
            "10      24.825516                  1        88427.0\n",
            "11      25.814303                  1        91949.0\n",
            "12      29.315485                 20      2088400.0\n",
            "13      30.078553                  1       107138.0\n",
            "14      42.111602                  1       149999.0\n"
          ]
        }
      ]
    },
    {
      "cell_type": "code",
      "source": [
        "# Identifier les colonnes avec un taux de valeurs manquantes supérieur à 10 %, hors 'TARGET'\n",
        "columns_to_drop = na_pareto_df[na_pareto_df['NA Percentage'] > 10]['Column'].tolist()\n",
        "\n",
        "# Assurez-vous que 'TARGET' n'est pas dans la liste des colonnes à supprimer\n",
        "if 'TARGET' in columns_to_drop:\n",
        "    columns_to_drop.remove('TARGET')\n",
        "\n",
        "# Supprimer ces colonnes du DataFrame d'origine\n",
        "df_final1 = df_final.drop(columns=columns_to_drop)\n",
        "\n",
        "# Supprimer les lignes avec des valeurs manquantes dans les colonnes restantes, sauf 'TARGET'\n",
        "df_final1 = df_final1.dropna(subset=[col for col in df_final1.columns if col != 'TARGET'])"
      ],
      "metadata": {
        "id": "4CtMQKnyuz2M"
      },
      "execution_count": 45,
      "outputs": []
    },
    {
      "cell_type": "code",
      "source": [
        "df_final1.shape"
      ],
      "metadata": {
        "colab": {
          "base_uri": "https://localhost:8080/"
        },
        "id": "EO-HJfNtu-Wa",
        "outputId": "faf49e4c-5916-486c-b1b8-c8b6b064056b"
      },
      "execution_count": 46,
      "outputs": [
        {
          "output_type": "execute_result",
          "data": {
            "text/plain": [
              "(334329, 493)"
            ]
          },
          "metadata": {},
          "execution_count": 46
        }
      ]
    },
    {
      "cell_type": "code",
      "source": [
        "final = \"/content/drive/MyDrive/OPENCLASSROOM/PROJET 7/dfclean_targetnan.csv\"\n",
        "df_final1.to_csv(final, index=False)"
      ],
      "metadata": {
        "id": "TLItcAb82ICE"
      },
      "execution_count": 51,
      "outputs": []
    },
    {
      "cell_type": "code",
      "source": [
        "missing_counts_per_column = df_final1.isna().sum()\n",
        "# Filtrer les colonnes avec au moins une valeur manquante\n",
        "columns_with_na = missing_counts_per_column[missing_counts_per_column > 0]\n",
        "columns_with_na"
      ],
      "metadata": {
        "colab": {
          "base_uri": "https://localhost:8080/"
        },
        "id": "6mXAcTLgvPPq",
        "outputId": "36e1d2fc-5fcd-4bf2-e014-93d98bec6e15"
      },
      "execution_count": 47,
      "outputs": [
        {
          "output_type": "execute_result",
          "data": {
            "text/plain": [
              "TARGET    47208\n",
              "dtype: int64"
            ]
          },
          "metadata": {},
          "execution_count": 47
        }
      ]
    },
    {
      "cell_type": "code",
      "source": [
        "df_nonan = df_final1.dropna(axis=0)"
      ],
      "metadata": {
        "id": "5PdMaZCCwDES"
      },
      "execution_count": 48,
      "outputs": []
    },
    {
      "cell_type": "code",
      "source": [
        "final = \"/content/drive/MyDrive/OPENCLASSROOM/PROJET 7/df_nonan.csv\"\n",
        "df_nonan.to_csv(final, index=False)"
      ],
      "metadata": {
        "id": "b7m8vVXE2JDU"
      },
      "execution_count": 50,
      "outputs": []
    },
    {
      "cell_type": "code",
      "source": [
        "df_nonan.shape"
      ],
      "metadata": {
        "colab": {
          "base_uri": "https://localhost:8080/"
        },
        "id": "vHkOmNEowVnc",
        "outputId": "b5080ddf-0ef0-4cd8-c676-7403b500dbdf"
      },
      "execution_count": 49,
      "outputs": [
        {
          "output_type": "execute_result",
          "data": {
            "text/plain": [
              "(287121, 493)"
            ]
          },
          "metadata": {},
          "execution_count": 49
        }
      ]
    }
  ],
  "metadata": {
    "accelerator": "GPU",
    "colab": {
      "machine_shape": "hm",
      "provenance": [],
      "gpuType": "V100",
      "mount_file_id": "1sg3-QjCSoQZhnN5lsuQryIKzxdTw4G0y",
      "authorship_tag": "ABX9TyNISPg2kjrdRP9JHRZgVWUP",
      "include_colab_link": true
    },
    "kernelspec": {
      "display_name": "Python 3",
      "name": "python3"
    },
    "language_info": {
      "name": "python"
    }
  },
  "nbformat": 4,
  "nbformat_minor": 0
}